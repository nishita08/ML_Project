{
  "nbformat": 4,
  "nbformat_minor": 0,
  "metadata": {
    "colab": {
      "provenance": []
    },
    "kernelspec": {
      "name": "python3",
      "display_name": "Python 3"
    },
    "language_info": {
      "name": "python"
    }
  },
  "cells": [
    {
      "cell_type": "markdown",
      "source": [
        "#                                   **Credit Card Fraud Prediction**"
      ],
      "metadata": {
        "id": "jgAx1Igi3DV3"
      }
    },
    {
      "cell_type": "markdown",
      "source": [
        "**TEAM MEMBERS:**\n",
        "\n",
        "SRUTHI BASINENI ,1RVU22BSC013\n",
        "\n",
        "JYOSTHNA CHIDARAPADU,USN:1RVU22BSC021\n",
        "\n",
        "NISHITA BANKAPUR, USN: 1RVU22BSC063\n",
        "\n",
        "RAKSHITHA M, USN: 1RVU22BSC079\n",
        "\n",
        "\n",
        "\n",
        "\n",
        "\n"
      ],
      "metadata": {
        "id": "9ToZmba2UrJe"
      }
    },
    {
      "cell_type": "markdown",
      "source": [
        "**PROBLEM STATEMENT:** Identifying fraudulent credit card transactions\n",
        "accurately, to minimize financial losses for card companies and users."
      ],
      "metadata": {
        "id": "Y6e_eKiTThDn"
      }
    },
    {
      "cell_type": "markdown",
      "source": [
        "The dataset is obtained from kaggele which provides a comprehensive collection of transactional data.\n",
        "\n",
        "It consists of 8000 rows and 17 columns in which 16 columns are independent variables and 1 column is the dependent variable i.e, \"Fraud Flag or Label\""
      ],
      "metadata": {
        "id": "49RxiKgfVkL-"
      }
    },
    {
      "cell_type": "code",
      "execution_count": 83,
      "metadata": {
        "id": "yCOSg69lSwfe"
      },
      "outputs": [],
      "source": [
        "import pandas as pd\n",
        "import numpy as np\n",
        "import seaborn as sns\n",
        "import matplotlib.pyplot as plt\n",
        "import math\n",
        "from sklearn.metrics import accuracy_score\n",
        "from sklearn.metrics import accuracy_score, precision_score, recall_score, f1_score, confusion_matrix\n",
        "from sklearn.model_selection import cross_val_score, StratifiedKFold\n",
        "from sklearn.neighbors import KNeighborsClassifier\n"
      ]
    },
    {
      "cell_type": "markdown",
      "source": [
        "### **1. PREPROCESSING**"
      ],
      "metadata": {
        "id": "MimPqCmC4vav"
      }
    },
    {
      "cell_type": "code",
      "source": [
        "df1 = pd.read_csv('/content/fraud.csv.csv')"
      ],
      "metadata": {
        "id": "9Ik4FcpQMxMN"
      },
      "execution_count": 84,
      "outputs": []
    },
    {
      "cell_type": "code",
      "source": [
        "df1"
      ],
      "metadata": {
        "colab": {
          "base_uri": "https://localhost:8080/",
          "height": 1000
        },
        "id": "rYiPx7c8PDQg",
        "outputId": "ef44f582-6d9e-416a-b5f9-8f080c32bcb8"
      },
      "execution_count": 85,
      "outputs": [
        {
          "output_type": "execute_result",
          "data": {
            "text/plain": [
              "      Transaction Amount        Cardholder Name  \\\n",
              "0                 285.88            Shray Soman   \n",
              "1                1777.32         Lakshit Bakshi   \n",
              "2                3939.01             Riya Bobal   \n",
              "3                 376.44  Mohanlal Balakrishnan   \n",
              "4                1687.33            Mannat Rout   \n",
              "...                  ...                    ...   \n",
              "7995             2214.15         Lakshay Khatri   \n",
              "7996              675.97        Dharmajan Salvi   \n",
              "7997              918.28              Alia Sane   \n",
              "7998             3035.31            Chirag Rege   \n",
              "7999             3354.36              Alia Bose   \n",
              "\n",
              "                      Card Number (Hashed or Encrypted)  \\\n",
              "0     daca51bffe0fc4eaaa7c430917f94b75fd893712492254...   \n",
              "1     d5366dd9be3a0266c0252baceaa6332210ed4dbd0ef252...   \n",
              "2     4737a6384aa1c3c31f7768b86633d6a8401dd6ab4a8ff1...   \n",
              "3     4721806eed8f2663bb597ff13e79a294de318358fbb54b...   \n",
              "4     9deacc3a9efd6e382826d400620aca5f23ed94327578e5...   \n",
              "...                                                 ...   \n",
              "7995  8a0015c8601fe597e160c31a05fd5e4a87a4b876df426f...   \n",
              "7996  de3530e65ccf6fc0c0eb7f7a7e8e5b71bb907d5207d390...   \n",
              "7997  227356d19fd5374e9cfdd134387fe3499683a1c7929981...   \n",
              "7998  669bd9fcc7e40cc25d99c773678e48bcb3fdadf7fee6a9...   \n",
              "7999  8db138a97db4df2c7533dfca014dcd85c0385846a55e6c...   \n",
              "\n",
              "                    Merchant Name  Merchant Category Code (MCC)  \\\n",
              "0     Rajagopalan, Ghose and Kant                          3590   \n",
              "1                        Sule PLC                          7277   \n",
              "2                       Badal PLC                          9297   \n",
              "3                     Konda-Sodhi                          5686   \n",
              "4                         Dua Ltd                          2940   \n",
              "...                           ...                           ...   \n",
              "7995                    Manda Ltd                          1236   \n",
              "7996                Bhavsar Group                          3406   \n",
              "7997   Gole, Yohannan and Singhal                          7504   \n",
              "7998                    Kakar LLC                          4015   \n",
              "7999        Datta, Gandhi and Sha                          2902   \n",
              "\n",
              "     Transaction Location (City or ZIP Code) Transaction Currency  \\\n",
              "0                                    Khammam                  INR   \n",
              "1                                Vasai-Virar                  EUR   \n",
              "2                                Nangloi Jat                  USD   \n",
              "3                                 Ramagundam                  USD   \n",
              "4                                      Adoni                  INR   \n",
              "...                                      ...                  ...   \n",
              "7995                             Anantapuram                  EUR   \n",
              "7996                                Guntakal                  INR   \n",
              "7997                                   Udupi                  USD   \n",
              "7998                        Sultan Pur Majra                  EUR   \n",
              "7999                                Dehradun                  INR   \n",
              "\n",
              "             Card Type Card Expiration Date  \\\n",
              "0           MasterCard               29-Apr   \n",
              "1     American Express               26-Mar   \n",
              "2                 Visa               29-Nov   \n",
              "3                 Visa               25-Sep   \n",
              "4           MasterCard               31-Mar   \n",
              "...                ...                  ...   \n",
              "7995              Visa               26-Apr   \n",
              "7996              Visa               25-Nov   \n",
              "7997        MasterCard               24-May   \n",
              "7998  American Express               24-Sep   \n",
              "7999              Visa               24-Feb   \n",
              "\n",
              "                         CVV Code (Hashed or Encrypted)  \\\n",
              "0     01299ac65733b5a3d774265fbfe8396b8611e5e3321855...   \n",
              "1     ad8fa913d25b3970c6efa8ca504da8ba670ce2a9cf012d...   \n",
              "2     eb3be230bbd2844b1f5d8f2e4fab9ffba8ab22cfeeb69c...   \n",
              "3     891d46993a36d78392247c642138cede01d9841daab1d9...   \n",
              "4     48a1a756f2d83f1dc57bbf14052b70a6f40d0fceed6662...   \n",
              "...                                                 ...   \n",
              "7995  d4b9aead1dd10a596542d1d8211a5021b9c3e894751d01...   \n",
              "7996  d874e4e4a5df21173b0f83e313151f813bea4f488686ef...   \n",
              "7997  20e9c64c05a54d199610fb7e38135361324b5ed5dcf39c...   \n",
              "7998  e7866fdc6672f827c76f6124ca3eeaff44aff8b7caf4ee...   \n",
              "7999  c86a2932e1c79343a3c16fb218b9944791aaeedd3e30c8...   \n",
              "\n",
              "      Transaction Response Code                        Transaction ID  \\\n",
              "0                             5  b7f69cbc-a03d-41f8-adca-75920b0242c3   \n",
              "1                            12  ad53cc8e-8412-422e-8cad-4176daac8387   \n",
              "2                             5  f09cecd6-0d74-4551-8089-a31d64e6b9c5   \n",
              "3                             5  b208ae0b-4c4f-428f-b6b9-5360b288b947   \n",
              "4                             5  6b4e4e43-5b73-4906-9973-299a1b2a5e71   \n",
              "...                         ...                                   ...   \n",
              "7995                          5  0d219c55-87cf-43af-a1bb-cda408710de1   \n",
              "7996                          0  054f6d58-9925-4c49-9f5d-01b6bf3db5c8   \n",
              "7997                          5  4178f63e-459b-40e6-8db6-a6ff2d6348e5   \n",
              "7998                          0  2424f724-8bd2-4dd0-8b39-e824999a9764   \n",
              "7999                         12  85588ac2-21c9-4c8d-a7fb-fd0d2b1fbb09   \n",
              "\n",
              "      Fraud Flag or Label Previous Transactions Transaction Source  \\\n",
              "0                       1                  None             Online   \n",
              "1                       1                  None             Online   \n",
              "2                       1             3 or more          In-Person   \n",
              "3                       0                     2          In-Person   \n",
              "4                       1                     2             Online   \n",
              "...                   ...                   ...                ...   \n",
              "7995                    0                     1             Online   \n",
              "7996                    1             3 or more          In-Person   \n",
              "7997                    1             3 or more          In-Person   \n",
              "7998                    1                     1          In-Person   \n",
              "7999                    0                     2          In-Person   \n",
              "\n",
              "           IP Address Device Information  \n",
              "0        18.106.240.6             Tablet  \n",
              "1      212.48.185.128             Mobile  \n",
              "2       17.190.112.46             Mobile  \n",
              "3      153.136.24.104             Tablet  \n",
              "4      196.153.28.131            Desktop  \n",
              "...               ...                ...  \n",
              "7995   214.34.176.247             Mobile  \n",
              "7996    34.237.199.33             Tablet  \n",
              "7997  220.203.140.160             Tablet  \n",
              "7998   216.56.133.227             Tablet  \n",
              "7999    159.232.79.67             Mobile  \n",
              "\n",
              "[8000 rows x 17 columns]"
            ],
            "text/html": [
              "\n",
              "  <div id=\"df-ae205785-ca5e-45b9-9a38-8e36fb4a1a2a\" class=\"colab-df-container\">\n",
              "    <div>\n",
              "<style scoped>\n",
              "    .dataframe tbody tr th:only-of-type {\n",
              "        vertical-align: middle;\n",
              "    }\n",
              "\n",
              "    .dataframe tbody tr th {\n",
              "        vertical-align: top;\n",
              "    }\n",
              "\n",
              "    .dataframe thead th {\n",
              "        text-align: right;\n",
              "    }\n",
              "</style>\n",
              "<table border=\"1\" class=\"dataframe\">\n",
              "  <thead>\n",
              "    <tr style=\"text-align: right;\">\n",
              "      <th></th>\n",
              "      <th>Transaction Amount</th>\n",
              "      <th>Cardholder Name</th>\n",
              "      <th>Card Number (Hashed or Encrypted)</th>\n",
              "      <th>Merchant Name</th>\n",
              "      <th>Merchant Category Code (MCC)</th>\n",
              "      <th>Transaction Location (City or ZIP Code)</th>\n",
              "      <th>Transaction Currency</th>\n",
              "      <th>Card Type</th>\n",
              "      <th>Card Expiration Date</th>\n",
              "      <th>CVV Code (Hashed or Encrypted)</th>\n",
              "      <th>Transaction Response Code</th>\n",
              "      <th>Transaction ID</th>\n",
              "      <th>Fraud Flag or Label</th>\n",
              "      <th>Previous Transactions</th>\n",
              "      <th>Transaction Source</th>\n",
              "      <th>IP Address</th>\n",
              "      <th>Device Information</th>\n",
              "    </tr>\n",
              "  </thead>\n",
              "  <tbody>\n",
              "    <tr>\n",
              "      <th>0</th>\n",
              "      <td>285.88</td>\n",
              "      <td>Shray Soman</td>\n",
              "      <td>daca51bffe0fc4eaaa7c430917f94b75fd893712492254...</td>\n",
              "      <td>Rajagopalan, Ghose and Kant</td>\n",
              "      <td>3590</td>\n",
              "      <td>Khammam</td>\n",
              "      <td>INR</td>\n",
              "      <td>MasterCard</td>\n",
              "      <td>29-Apr</td>\n",
              "      <td>01299ac65733b5a3d774265fbfe8396b8611e5e3321855...</td>\n",
              "      <td>5</td>\n",
              "      <td>b7f69cbc-a03d-41f8-adca-75920b0242c3</td>\n",
              "      <td>1</td>\n",
              "      <td>None</td>\n",
              "      <td>Online</td>\n",
              "      <td>18.106.240.6</td>\n",
              "      <td>Tablet</td>\n",
              "    </tr>\n",
              "    <tr>\n",
              "      <th>1</th>\n",
              "      <td>1777.32</td>\n",
              "      <td>Lakshit Bakshi</td>\n",
              "      <td>d5366dd9be3a0266c0252baceaa6332210ed4dbd0ef252...</td>\n",
              "      <td>Sule PLC</td>\n",
              "      <td>7277</td>\n",
              "      <td>Vasai-Virar</td>\n",
              "      <td>EUR</td>\n",
              "      <td>American Express</td>\n",
              "      <td>26-Mar</td>\n",
              "      <td>ad8fa913d25b3970c6efa8ca504da8ba670ce2a9cf012d...</td>\n",
              "      <td>12</td>\n",
              "      <td>ad53cc8e-8412-422e-8cad-4176daac8387</td>\n",
              "      <td>1</td>\n",
              "      <td>None</td>\n",
              "      <td>Online</td>\n",
              "      <td>212.48.185.128</td>\n",
              "      <td>Mobile</td>\n",
              "    </tr>\n",
              "    <tr>\n",
              "      <th>2</th>\n",
              "      <td>3939.01</td>\n",
              "      <td>Riya Bobal</td>\n",
              "      <td>4737a6384aa1c3c31f7768b86633d6a8401dd6ab4a8ff1...</td>\n",
              "      <td>Badal PLC</td>\n",
              "      <td>9297</td>\n",
              "      <td>Nangloi Jat</td>\n",
              "      <td>USD</td>\n",
              "      <td>Visa</td>\n",
              "      <td>29-Nov</td>\n",
              "      <td>eb3be230bbd2844b1f5d8f2e4fab9ffba8ab22cfeeb69c...</td>\n",
              "      <td>5</td>\n",
              "      <td>f09cecd6-0d74-4551-8089-a31d64e6b9c5</td>\n",
              "      <td>1</td>\n",
              "      <td>3 or more</td>\n",
              "      <td>In-Person</td>\n",
              "      <td>17.190.112.46</td>\n",
              "      <td>Mobile</td>\n",
              "    </tr>\n",
              "    <tr>\n",
              "      <th>3</th>\n",
              "      <td>376.44</td>\n",
              "      <td>Mohanlal Balakrishnan</td>\n",
              "      <td>4721806eed8f2663bb597ff13e79a294de318358fbb54b...</td>\n",
              "      <td>Konda-Sodhi</td>\n",
              "      <td>5686</td>\n",
              "      <td>Ramagundam</td>\n",
              "      <td>USD</td>\n",
              "      <td>Visa</td>\n",
              "      <td>25-Sep</td>\n",
              "      <td>891d46993a36d78392247c642138cede01d9841daab1d9...</td>\n",
              "      <td>5</td>\n",
              "      <td>b208ae0b-4c4f-428f-b6b9-5360b288b947</td>\n",
              "      <td>0</td>\n",
              "      <td>2</td>\n",
              "      <td>In-Person</td>\n",
              "      <td>153.136.24.104</td>\n",
              "      <td>Tablet</td>\n",
              "    </tr>\n",
              "    <tr>\n",
              "      <th>4</th>\n",
              "      <td>1687.33</td>\n",
              "      <td>Mannat Rout</td>\n",
              "      <td>9deacc3a9efd6e382826d400620aca5f23ed94327578e5...</td>\n",
              "      <td>Dua Ltd</td>\n",
              "      <td>2940</td>\n",
              "      <td>Adoni</td>\n",
              "      <td>INR</td>\n",
              "      <td>MasterCard</td>\n",
              "      <td>31-Mar</td>\n",
              "      <td>48a1a756f2d83f1dc57bbf14052b70a6f40d0fceed6662...</td>\n",
              "      <td>5</td>\n",
              "      <td>6b4e4e43-5b73-4906-9973-299a1b2a5e71</td>\n",
              "      <td>1</td>\n",
              "      <td>2</td>\n",
              "      <td>Online</td>\n",
              "      <td>196.153.28.131</td>\n",
              "      <td>Desktop</td>\n",
              "    </tr>\n",
              "    <tr>\n",
              "      <th>...</th>\n",
              "      <td>...</td>\n",
              "      <td>...</td>\n",
              "      <td>...</td>\n",
              "      <td>...</td>\n",
              "      <td>...</td>\n",
              "      <td>...</td>\n",
              "      <td>...</td>\n",
              "      <td>...</td>\n",
              "      <td>...</td>\n",
              "      <td>...</td>\n",
              "      <td>...</td>\n",
              "      <td>...</td>\n",
              "      <td>...</td>\n",
              "      <td>...</td>\n",
              "      <td>...</td>\n",
              "      <td>...</td>\n",
              "      <td>...</td>\n",
              "    </tr>\n",
              "    <tr>\n",
              "      <th>7995</th>\n",
              "      <td>2214.15</td>\n",
              "      <td>Lakshay Khatri</td>\n",
              "      <td>8a0015c8601fe597e160c31a05fd5e4a87a4b876df426f...</td>\n",
              "      <td>Manda Ltd</td>\n",
              "      <td>1236</td>\n",
              "      <td>Anantapuram</td>\n",
              "      <td>EUR</td>\n",
              "      <td>Visa</td>\n",
              "      <td>26-Apr</td>\n",
              "      <td>d4b9aead1dd10a596542d1d8211a5021b9c3e894751d01...</td>\n",
              "      <td>5</td>\n",
              "      <td>0d219c55-87cf-43af-a1bb-cda408710de1</td>\n",
              "      <td>0</td>\n",
              "      <td>1</td>\n",
              "      <td>Online</td>\n",
              "      <td>214.34.176.247</td>\n",
              "      <td>Mobile</td>\n",
              "    </tr>\n",
              "    <tr>\n",
              "      <th>7996</th>\n",
              "      <td>675.97</td>\n",
              "      <td>Dharmajan Salvi</td>\n",
              "      <td>de3530e65ccf6fc0c0eb7f7a7e8e5b71bb907d5207d390...</td>\n",
              "      <td>Bhavsar Group</td>\n",
              "      <td>3406</td>\n",
              "      <td>Guntakal</td>\n",
              "      <td>INR</td>\n",
              "      <td>Visa</td>\n",
              "      <td>25-Nov</td>\n",
              "      <td>d874e4e4a5df21173b0f83e313151f813bea4f488686ef...</td>\n",
              "      <td>0</td>\n",
              "      <td>054f6d58-9925-4c49-9f5d-01b6bf3db5c8</td>\n",
              "      <td>1</td>\n",
              "      <td>3 or more</td>\n",
              "      <td>In-Person</td>\n",
              "      <td>34.237.199.33</td>\n",
              "      <td>Tablet</td>\n",
              "    </tr>\n",
              "    <tr>\n",
              "      <th>7997</th>\n",
              "      <td>918.28</td>\n",
              "      <td>Alia Sane</td>\n",
              "      <td>227356d19fd5374e9cfdd134387fe3499683a1c7929981...</td>\n",
              "      <td>Gole, Yohannan and Singhal</td>\n",
              "      <td>7504</td>\n",
              "      <td>Udupi</td>\n",
              "      <td>USD</td>\n",
              "      <td>MasterCard</td>\n",
              "      <td>24-May</td>\n",
              "      <td>20e9c64c05a54d199610fb7e38135361324b5ed5dcf39c...</td>\n",
              "      <td>5</td>\n",
              "      <td>4178f63e-459b-40e6-8db6-a6ff2d6348e5</td>\n",
              "      <td>1</td>\n",
              "      <td>3 or more</td>\n",
              "      <td>In-Person</td>\n",
              "      <td>220.203.140.160</td>\n",
              "      <td>Tablet</td>\n",
              "    </tr>\n",
              "    <tr>\n",
              "      <th>7998</th>\n",
              "      <td>3035.31</td>\n",
              "      <td>Chirag Rege</td>\n",
              "      <td>669bd9fcc7e40cc25d99c773678e48bcb3fdadf7fee6a9...</td>\n",
              "      <td>Kakar LLC</td>\n",
              "      <td>4015</td>\n",
              "      <td>Sultan Pur Majra</td>\n",
              "      <td>EUR</td>\n",
              "      <td>American Express</td>\n",
              "      <td>24-Sep</td>\n",
              "      <td>e7866fdc6672f827c76f6124ca3eeaff44aff8b7caf4ee...</td>\n",
              "      <td>0</td>\n",
              "      <td>2424f724-8bd2-4dd0-8b39-e824999a9764</td>\n",
              "      <td>1</td>\n",
              "      <td>1</td>\n",
              "      <td>In-Person</td>\n",
              "      <td>216.56.133.227</td>\n",
              "      <td>Tablet</td>\n",
              "    </tr>\n",
              "    <tr>\n",
              "      <th>7999</th>\n",
              "      <td>3354.36</td>\n",
              "      <td>Alia Bose</td>\n",
              "      <td>8db138a97db4df2c7533dfca014dcd85c0385846a55e6c...</td>\n",
              "      <td>Datta, Gandhi and Sha</td>\n",
              "      <td>2902</td>\n",
              "      <td>Dehradun</td>\n",
              "      <td>INR</td>\n",
              "      <td>Visa</td>\n",
              "      <td>24-Feb</td>\n",
              "      <td>c86a2932e1c79343a3c16fb218b9944791aaeedd3e30c8...</td>\n",
              "      <td>12</td>\n",
              "      <td>85588ac2-21c9-4c8d-a7fb-fd0d2b1fbb09</td>\n",
              "      <td>0</td>\n",
              "      <td>2</td>\n",
              "      <td>In-Person</td>\n",
              "      <td>159.232.79.67</td>\n",
              "      <td>Mobile</td>\n",
              "    </tr>\n",
              "  </tbody>\n",
              "</table>\n",
              "<p>8000 rows × 17 columns</p>\n",
              "</div>\n",
              "    <div class=\"colab-df-buttons\">\n",
              "\n",
              "  <div class=\"colab-df-container\">\n",
              "    <button class=\"colab-df-convert\" onclick=\"convertToInteractive('df-ae205785-ca5e-45b9-9a38-8e36fb4a1a2a')\"\n",
              "            title=\"Convert this dataframe to an interactive table.\"\n",
              "            style=\"display:none;\">\n",
              "\n",
              "  <svg xmlns=\"http://www.w3.org/2000/svg\" height=\"24px\" viewBox=\"0 -960 960 960\">\n",
              "    <path d=\"M120-120v-720h720v720H120Zm60-500h600v-160H180v160Zm220 220h160v-160H400v160Zm0 220h160v-160H400v160ZM180-400h160v-160H180v160Zm440 0h160v-160H620v160ZM180-180h160v-160H180v160Zm440 0h160v-160H620v160Z\"/>\n",
              "  </svg>\n",
              "    </button>\n",
              "\n",
              "  <style>\n",
              "    .colab-df-container {\n",
              "      display:flex;\n",
              "      gap: 12px;\n",
              "    }\n",
              "\n",
              "    .colab-df-convert {\n",
              "      background-color: #E8F0FE;\n",
              "      border: none;\n",
              "      border-radius: 50%;\n",
              "      cursor: pointer;\n",
              "      display: none;\n",
              "      fill: #1967D2;\n",
              "      height: 32px;\n",
              "      padding: 0 0 0 0;\n",
              "      width: 32px;\n",
              "    }\n",
              "\n",
              "    .colab-df-convert:hover {\n",
              "      background-color: #E2EBFA;\n",
              "      box-shadow: 0px 1px 2px rgba(60, 64, 67, 0.3), 0px 1px 3px 1px rgba(60, 64, 67, 0.15);\n",
              "      fill: #174EA6;\n",
              "    }\n",
              "\n",
              "    .colab-df-buttons div {\n",
              "      margin-bottom: 4px;\n",
              "    }\n",
              "\n",
              "    [theme=dark] .colab-df-convert {\n",
              "      background-color: #3B4455;\n",
              "      fill: #D2E3FC;\n",
              "    }\n",
              "\n",
              "    [theme=dark] .colab-df-convert:hover {\n",
              "      background-color: #434B5C;\n",
              "      box-shadow: 0px 1px 3px 1px rgba(0, 0, 0, 0.15);\n",
              "      filter: drop-shadow(0px 1px 2px rgba(0, 0, 0, 0.3));\n",
              "      fill: #FFFFFF;\n",
              "    }\n",
              "  </style>\n",
              "\n",
              "    <script>\n",
              "      const buttonEl =\n",
              "        document.querySelector('#df-ae205785-ca5e-45b9-9a38-8e36fb4a1a2a button.colab-df-convert');\n",
              "      buttonEl.style.display =\n",
              "        google.colab.kernel.accessAllowed ? 'block' : 'none';\n",
              "\n",
              "      async function convertToInteractive(key) {\n",
              "        const element = document.querySelector('#df-ae205785-ca5e-45b9-9a38-8e36fb4a1a2a');\n",
              "        const dataTable =\n",
              "          await google.colab.kernel.invokeFunction('convertToInteractive',\n",
              "                                                    [key], {});\n",
              "        if (!dataTable) return;\n",
              "\n",
              "        const docLinkHtml = 'Like what you see? Visit the ' +\n",
              "          '<a target=\"_blank\" href=https://colab.research.google.com/notebooks/data_table.ipynb>data table notebook</a>'\n",
              "          + ' to learn more about interactive tables.';\n",
              "        element.innerHTML = '';\n",
              "        dataTable['output_type'] = 'display_data';\n",
              "        await google.colab.output.renderOutput(dataTable, element);\n",
              "        const docLink = document.createElement('div');\n",
              "        docLink.innerHTML = docLinkHtml;\n",
              "        element.appendChild(docLink);\n",
              "      }\n",
              "    </script>\n",
              "  </div>\n",
              "\n",
              "\n",
              "<div id=\"df-89dec9b2-d5b4-4ad9-9a3b-c1af83ef7b15\">\n",
              "  <button class=\"colab-df-quickchart\" onclick=\"quickchart('df-89dec9b2-d5b4-4ad9-9a3b-c1af83ef7b15')\"\n",
              "            title=\"Suggest charts\"\n",
              "            style=\"display:none;\">\n",
              "\n",
              "<svg xmlns=\"http://www.w3.org/2000/svg\" height=\"24px\"viewBox=\"0 0 24 24\"\n",
              "     width=\"24px\">\n",
              "    <g>\n",
              "        <path d=\"M19 3H5c-1.1 0-2 .9-2 2v14c0 1.1.9 2 2 2h14c1.1 0 2-.9 2-2V5c0-1.1-.9-2-2-2zM9 17H7v-7h2v7zm4 0h-2V7h2v10zm4 0h-2v-4h2v4z\"/>\n",
              "    </g>\n",
              "</svg>\n",
              "  </button>\n",
              "\n",
              "<style>\n",
              "  .colab-df-quickchart {\n",
              "      --bg-color: #E8F0FE;\n",
              "      --fill-color: #1967D2;\n",
              "      --hover-bg-color: #E2EBFA;\n",
              "      --hover-fill-color: #174EA6;\n",
              "      --disabled-fill-color: #AAA;\n",
              "      --disabled-bg-color: #DDD;\n",
              "  }\n",
              "\n",
              "  [theme=dark] .colab-df-quickchart {\n",
              "      --bg-color: #3B4455;\n",
              "      --fill-color: #D2E3FC;\n",
              "      --hover-bg-color: #434B5C;\n",
              "      --hover-fill-color: #FFFFFF;\n",
              "      --disabled-bg-color: #3B4455;\n",
              "      --disabled-fill-color: #666;\n",
              "  }\n",
              "\n",
              "  .colab-df-quickchart {\n",
              "    background-color: var(--bg-color);\n",
              "    border: none;\n",
              "    border-radius: 50%;\n",
              "    cursor: pointer;\n",
              "    display: none;\n",
              "    fill: var(--fill-color);\n",
              "    height: 32px;\n",
              "    padding: 0;\n",
              "    width: 32px;\n",
              "  }\n",
              "\n",
              "  .colab-df-quickchart:hover {\n",
              "    background-color: var(--hover-bg-color);\n",
              "    box-shadow: 0 1px 2px rgba(60, 64, 67, 0.3), 0 1px 3px 1px rgba(60, 64, 67, 0.15);\n",
              "    fill: var(--button-hover-fill-color);\n",
              "  }\n",
              "\n",
              "  .colab-df-quickchart-complete:disabled,\n",
              "  .colab-df-quickchart-complete:disabled:hover {\n",
              "    background-color: var(--disabled-bg-color);\n",
              "    fill: var(--disabled-fill-color);\n",
              "    box-shadow: none;\n",
              "  }\n",
              "\n",
              "  .colab-df-spinner {\n",
              "    border: 2px solid var(--fill-color);\n",
              "    border-color: transparent;\n",
              "    border-bottom-color: var(--fill-color);\n",
              "    animation:\n",
              "      spin 1s steps(1) infinite;\n",
              "  }\n",
              "\n",
              "  @keyframes spin {\n",
              "    0% {\n",
              "      border-color: transparent;\n",
              "      border-bottom-color: var(--fill-color);\n",
              "      border-left-color: var(--fill-color);\n",
              "    }\n",
              "    20% {\n",
              "      border-color: transparent;\n",
              "      border-left-color: var(--fill-color);\n",
              "      border-top-color: var(--fill-color);\n",
              "    }\n",
              "    30% {\n",
              "      border-color: transparent;\n",
              "      border-left-color: var(--fill-color);\n",
              "      border-top-color: var(--fill-color);\n",
              "      border-right-color: var(--fill-color);\n",
              "    }\n",
              "    40% {\n",
              "      border-color: transparent;\n",
              "      border-right-color: var(--fill-color);\n",
              "      border-top-color: var(--fill-color);\n",
              "    }\n",
              "    60% {\n",
              "      border-color: transparent;\n",
              "      border-right-color: var(--fill-color);\n",
              "    }\n",
              "    80% {\n",
              "      border-color: transparent;\n",
              "      border-right-color: var(--fill-color);\n",
              "      border-bottom-color: var(--fill-color);\n",
              "    }\n",
              "    90% {\n",
              "      border-color: transparent;\n",
              "      border-bottom-color: var(--fill-color);\n",
              "    }\n",
              "  }\n",
              "</style>\n",
              "\n",
              "  <script>\n",
              "    async function quickchart(key) {\n",
              "      const quickchartButtonEl =\n",
              "        document.querySelector('#' + key + ' button');\n",
              "      quickchartButtonEl.disabled = true;  // To prevent multiple clicks.\n",
              "      quickchartButtonEl.classList.add('colab-df-spinner');\n",
              "      try {\n",
              "        const charts = await google.colab.kernel.invokeFunction(\n",
              "            'suggestCharts', [key], {});\n",
              "      } catch (error) {\n",
              "        console.error('Error during call to suggestCharts:', error);\n",
              "      }\n",
              "      quickchartButtonEl.classList.remove('colab-df-spinner');\n",
              "      quickchartButtonEl.classList.add('colab-df-quickchart-complete');\n",
              "    }\n",
              "    (() => {\n",
              "      let quickchartButtonEl =\n",
              "        document.querySelector('#df-89dec9b2-d5b4-4ad9-9a3b-c1af83ef7b15 button');\n",
              "      quickchartButtonEl.style.display =\n",
              "        google.colab.kernel.accessAllowed ? 'block' : 'none';\n",
              "    })();\n",
              "  </script>\n",
              "</div>\n",
              "    </div>\n",
              "  </div>\n"
            ],
            "application/vnd.google.colaboratory.intrinsic+json": {
              "type": "dataframe",
              "variable_name": "df1",
              "summary": "{\n  \"name\": \"df1\",\n  \"rows\": 8000,\n  \"fields\": [\n    {\n      \"column\": \"Transaction Amount\",\n      \"properties\": {\n        \"dtype\": \"number\",\n        \"std\": 1451.2213259467821,\n        \"min\": 1.09,\n        \"max\": 4996.7,\n        \"num_unique_values\": 7934,\n        \"samples\": [\n          618.61,\n          2942.95,\n          2005.4\n        ],\n        \"semantic_type\": \"\",\n        \"description\": \"\"\n      }\n    },\n    {\n      \"column\": \"Cardholder Name\",\n      \"properties\": {\n        \"dtype\": \"string\",\n        \"num_unique_values\": 7651,\n        \"samples\": [\n          \"Bhavin Mangat\",\n          \"Gatik Jain\",\n          \"Anahita Das\"\n        ],\n        \"semantic_type\": \"\",\n        \"description\": \"\"\n      }\n    },\n    {\n      \"column\": \"Card Number (Hashed or Encrypted)\",\n      \"properties\": {\n        \"dtype\": \"string\",\n        \"num_unique_values\": 8000,\n        \"samples\": [\n          \"f793d9e82723ca61d2df09009c00060fe81f19a11eadc2c566c1070ce8fce4d6\",\n          \"e7d00f5c2ba7ea4694fe72e49a57a01e5c17872285c0bf1b2f255652b6d49b82\",\n          \"bc15ef9f147571851af849e2e778b947844b8c1d93409bde426be0460fd8fb36\"\n        ],\n        \"semantic_type\": \"\",\n        \"description\": \"\"\n      }\n    },\n    {\n      \"column\": \"Merchant Name\",\n      \"properties\": {\n        \"dtype\": \"string\",\n        \"num_unique_values\": 7027,\n        \"samples\": [\n          \"Tata Group\",\n          \"Zacharia-Roy\",\n          \"Bail, Bawa and Salvi\"\n        ],\n        \"semantic_type\": \"\",\n        \"description\": \"\"\n      }\n    },\n    {\n      \"column\": \"Merchant Category Code (MCC)\",\n      \"properties\": {\n        \"dtype\": \"number\",\n        \"std\": 2608,\n        \"min\": 1000,\n        \"max\": 9999,\n        \"num_unique_values\": 5328,\n        \"samples\": [\n          3280,\n          4626,\n          5974\n        ],\n        \"semantic_type\": \"\",\n        \"description\": \"\"\n      }\n    },\n    {\n      \"column\": \"Transaction Location (City or ZIP Code)\",\n      \"properties\": {\n        \"dtype\": \"category\",\n        \"num_unique_values\": 316,\n        \"samples\": [\n          \"Varanasi\",\n          \"Muzaffarnagar\",\n          \"Durg\"\n        ],\n        \"semantic_type\": \"\",\n        \"description\": \"\"\n      }\n    },\n    {\n      \"column\": \"Transaction Currency\",\n      \"properties\": {\n        \"dtype\": \"category\",\n        \"num_unique_values\": 3,\n        \"samples\": [\n          \"INR\",\n          \"EUR\",\n          \"USD\"\n        ],\n        \"semantic_type\": \"\",\n        \"description\": \"\"\n      }\n    },\n    {\n      \"column\": \"Card Type\",\n      \"properties\": {\n        \"dtype\": \"category\",\n        \"num_unique_values\": 3,\n        \"samples\": [\n          \"MasterCard\",\n          \"American Express\",\n          \"Visa\"\n        ],\n        \"semantic_type\": \"\",\n        \"description\": \"\"\n      }\n    },\n    {\n      \"column\": \"Card Expiration Date\",\n      \"properties\": {\n        \"dtype\": \"category\",\n        \"num_unique_values\": 121,\n        \"samples\": [\n          \"27-Aug\",\n          \"26-Apr\",\n          \"31-Mar\"\n        ],\n        \"semantic_type\": \"\",\n        \"description\": \"\"\n      }\n    },\n    {\n      \"column\": \"CVV Code (Hashed or Encrypted)\",\n      \"properties\": {\n        \"dtype\": \"category\",\n        \"num_unique_values\": 1000,\n        \"samples\": [\n          \"8952115444bab6de66aab97501f75fee64be3448203a91b47818e5e8943e0dfb\",\n          \"35c71bd7eaf4607047bb7c186d17251942204229b897e033923b13dc8ce2d109\",\n          \"3658d7fa3c43456f3c9c87db0490e872039516e6375336254560167cc3db2ea2\"\n        ],\n        \"semantic_type\": \"\",\n        \"description\": \"\"\n      }\n    },\n    {\n      \"column\": \"Transaction Response Code\",\n      \"properties\": {\n        \"dtype\": \"number\",\n        \"std\": 4,\n        \"min\": 0,\n        \"max\": 12,\n        \"num_unique_values\": 3,\n        \"samples\": [\n          5,\n          12,\n          0\n        ],\n        \"semantic_type\": \"\",\n        \"description\": \"\"\n      }\n    },\n    {\n      \"column\": \"Transaction ID\",\n      \"properties\": {\n        \"dtype\": \"string\",\n        \"num_unique_values\": 8000,\n        \"samples\": [\n          \"5b8ede07-9d60-467a-ad80-6dca484e61f4\",\n          \"bd8849cc-aab7-4b79-964a-530b6f5006a1\",\n          \"63f77190-53db-4817-938e-a4a0fa1eda73\"\n        ],\n        \"semantic_type\": \"\",\n        \"description\": \"\"\n      }\n    },\n    {\n      \"column\": \"Fraud Flag or Label\",\n      \"properties\": {\n        \"dtype\": \"number\",\n        \"std\": 0,\n        \"min\": 0,\n        \"max\": 1,\n        \"num_unique_values\": 2,\n        \"samples\": [\n          0,\n          1\n        ],\n        \"semantic_type\": \"\",\n        \"description\": \"\"\n      }\n    },\n    {\n      \"column\": \"Previous Transactions\",\n      \"properties\": {\n        \"dtype\": \"category\",\n        \"num_unique_values\": 4,\n        \"samples\": [\n          \"3 or more\",\n          \"1\"\n        ],\n        \"semantic_type\": \"\",\n        \"description\": \"\"\n      }\n    },\n    {\n      \"column\": \"Transaction Source\",\n      \"properties\": {\n        \"dtype\": \"category\",\n        \"num_unique_values\": 2,\n        \"samples\": [\n          \"In-Person\",\n          \"Online\"\n        ],\n        \"semantic_type\": \"\",\n        \"description\": \"\"\n      }\n    },\n    {\n      \"column\": \"IP Address\",\n      \"properties\": {\n        \"dtype\": \"string\",\n        \"num_unique_values\": 8000,\n        \"samples\": [\n          \"189.80.103.232\",\n          \"37.41.164.148\"\n        ],\n        \"semantic_type\": \"\",\n        \"description\": \"\"\n      }\n    },\n    {\n      \"column\": \"Device Information\",\n      \"properties\": {\n        \"dtype\": \"category\",\n        \"num_unique_values\": 3,\n        \"samples\": [\n          \"Tablet\",\n          \"Mobile\"\n        ],\n        \"semantic_type\": \"\",\n        \"description\": \"\"\n      }\n    }\n  ]\n}"
            }
          },
          "metadata": {},
          "execution_count": 85
        }
      ]
    },
    {
      "cell_type": "code",
      "source": [
        "df1.shape"
      ],
      "metadata": {
        "colab": {
          "base_uri": "https://localhost:8080/"
        },
        "id": "ICwk2gzwWyYw",
        "outputId": "75ae6dc6-64c3-4a10-9d4c-ea908b87b8fc"
      },
      "execution_count": 86,
      "outputs": [
        {
          "output_type": "execute_result",
          "data": {
            "text/plain": [
              "(8000, 17)"
            ]
          },
          "metadata": {},
          "execution_count": 86
        }
      ]
    },
    {
      "cell_type": "code",
      "source": [
        "# lets check the missing values\n",
        "df1.isna().sum()"
      ],
      "metadata": {
        "colab": {
          "base_uri": "https://localhost:8080/"
        },
        "id": "6l9hFh1mW1p-",
        "outputId": "2d0b5656-0be4-4235-8d18-9cd64a0f78ad"
      },
      "execution_count": 87,
      "outputs": [
        {
          "output_type": "execute_result",
          "data": {
            "text/plain": [
              "Transaction Amount                         0\n",
              "Cardholder Name                            0\n",
              "Card Number (Hashed or Encrypted)          0\n",
              "Merchant Name                              0\n",
              "Merchant Category Code (MCC)               0\n",
              "Transaction Location (City or ZIP Code)    0\n",
              "Transaction Currency                       0\n",
              "Card Type                                  0\n",
              "Card Expiration Date                       0\n",
              "CVV Code (Hashed or Encrypted)             0\n",
              "Transaction Response Code                  0\n",
              "Transaction ID                             0\n",
              "Fraud Flag or Label                        0\n",
              "Previous Transactions                      0\n",
              "Transaction Source                         0\n",
              "IP Address                                 0\n",
              "Device Information                         0\n",
              "dtype: int64"
            ]
          },
          "metadata": {},
          "execution_count": 87
        }
      ]
    },
    {
      "cell_type": "code",
      "source": [
        "(df1.isnull().sum() / len(df1)) * 100"
      ],
      "metadata": {
        "colab": {
          "base_uri": "https://localhost:8080/"
        },
        "id": "h4g54TcZPEIE",
        "outputId": "8285fd1a-7c4f-4b7e-fdc0-4498d9c1be8b"
      },
      "execution_count": 88,
      "outputs": [
        {
          "output_type": "execute_result",
          "data": {
            "text/plain": [
              "Transaction Amount                         0.0\n",
              "Cardholder Name                            0.0\n",
              "Card Number (Hashed or Encrypted)          0.0\n",
              "Merchant Name                              0.0\n",
              "Merchant Category Code (MCC)               0.0\n",
              "Transaction Location (City or ZIP Code)    0.0\n",
              "Transaction Currency                       0.0\n",
              "Card Type                                  0.0\n",
              "Card Expiration Date                       0.0\n",
              "CVV Code (Hashed or Encrypted)             0.0\n",
              "Transaction Response Code                  0.0\n",
              "Transaction ID                             0.0\n",
              "Fraud Flag or Label                        0.0\n",
              "Previous Transactions                      0.0\n",
              "Transaction Source                         0.0\n",
              "IP Address                                 0.0\n",
              "Device Information                         0.0\n",
              "dtype: float64"
            ]
          },
          "metadata": {},
          "execution_count": 88
        }
      ]
    },
    {
      "cell_type": "markdown",
      "source": [
        "**Label encoding** is often used to convert these categorical variables into numerical format. This conversion is necessary because many machine learning algorithms require numerical input for training.So,the model can effectively train to detect patterns and make predictions based on these features."
      ],
      "metadata": {
        "id": "r57fa7ImYHvS"
      }
    },
    {
      "cell_type": "code",
      "source": [
        "from sklearn.preprocessing import LabelEncoder\n",
        "\n",
        "columns_to_encode = ['Cardholder Name', 'Merchant Name', 'Transaction Location (City or ZIP Code)', 'Card Type', 'Transaction Source', 'Device Information']\n",
        "label_encoder = LabelEncoder()\n",
        "for col in columns_to_encode:\n",
        "    df1[col] = label_encoder.fit_transform(df1[col])\n",
        "print(df1.head())\n"
      ],
      "metadata": {
        "colab": {
          "base_uri": "https://localhost:8080/"
        },
        "id": "O9l53q0LgMSV",
        "outputId": "0fb65aa3-2f12-4116-ce29-f9db3e0730a8"
      },
      "execution_count": 89,
      "outputs": [
        {
          "output_type": "stream",
          "name": "stdout",
          "text": [
            "   Transaction Amount  Cardholder Name  \\\n",
            "0              285.88             6398   \n",
            "1             1777.32             3729   \n",
            "2             3939.01             5542   \n",
            "3              376.44             4272   \n",
            "4             1687.33             4066   \n",
            "\n",
            "                   Card Number (Hashed or Encrypted)  Merchant Name  \\\n",
            "0  daca51bffe0fc4eaaa7c430917f94b75fd893712492254...           4585   \n",
            "1  d5366dd9be3a0266c0252baceaa6332210ed4dbd0ef252...           6117   \n",
            "2  4737a6384aa1c3c31f7768b86633d6a8401dd6ab4a8ff1...            249   \n",
            "3  4721806eed8f2663bb597ff13e79a294de318358fbb54b...           3820   \n",
            "4  9deacc3a9efd6e382826d400620aca5f23ed94327578e5...           2364   \n",
            "\n",
            "   Merchant Category Code (MCC)  Transaction Location (City or ZIP Code)  \\\n",
            "0                          3590                                      153   \n",
            "1                          7277                                      309   \n",
            "2                          9297                                      208   \n",
            "3                          5686                                      244   \n",
            "4                          2940                                        0   \n",
            "\n",
            "  Transaction Currency  Card Type Card Expiration Date  \\\n",
            "0                  INR          1               29-Apr   \n",
            "1                  EUR          0               26-Mar   \n",
            "2                  USD          2               29-Nov   \n",
            "3                  USD          2               25-Sep   \n",
            "4                  INR          1               31-Mar   \n",
            "\n",
            "                      CVV Code (Hashed or Encrypted)  \\\n",
            "0  01299ac65733b5a3d774265fbfe8396b8611e5e3321855...   \n",
            "1  ad8fa913d25b3970c6efa8ca504da8ba670ce2a9cf012d...   \n",
            "2  eb3be230bbd2844b1f5d8f2e4fab9ffba8ab22cfeeb69c...   \n",
            "3  891d46993a36d78392247c642138cede01d9841daab1d9...   \n",
            "4  48a1a756f2d83f1dc57bbf14052b70a6f40d0fceed6662...   \n",
            "\n",
            "   Transaction Response Code                        Transaction ID  \\\n",
            "0                          5  b7f69cbc-a03d-41f8-adca-75920b0242c3   \n",
            "1                         12  ad53cc8e-8412-422e-8cad-4176daac8387   \n",
            "2                          5  f09cecd6-0d74-4551-8089-a31d64e6b9c5   \n",
            "3                          5  b208ae0b-4c4f-428f-b6b9-5360b288b947   \n",
            "4                          5  6b4e4e43-5b73-4906-9973-299a1b2a5e71   \n",
            "\n",
            "   Fraud Flag or Label Previous Transactions  Transaction Source  \\\n",
            "0                    1                  None                   1   \n",
            "1                    1                  None                   1   \n",
            "2                    1             3 or more                   0   \n",
            "3                    0                     2                   0   \n",
            "4                    1                     2                   1   \n",
            "\n",
            "       IP Address  Device Information  \n",
            "0    18.106.240.6                   2  \n",
            "1  212.48.185.128                   1  \n",
            "2   17.190.112.46                   1  \n",
            "3  153.136.24.104                   2  \n",
            "4  196.153.28.131                   0  \n"
          ]
        }
      ]
    },
    {
      "cell_type": "code",
      "source": [
        "df1"
      ],
      "metadata": {
        "id": "DMAS18DMg8Gu",
        "outputId": "54c8b729-7d9a-4c6f-cf05-56efbf137dc6",
        "colab": {
          "base_uri": "https://localhost:8080/",
          "height": 1000
        }
      },
      "execution_count": 90,
      "outputs": [
        {
          "output_type": "execute_result",
          "data": {
            "text/plain": [
              "      Transaction Amount  Cardholder Name  \\\n",
              "0                 285.88             6398   \n",
              "1                1777.32             3729   \n",
              "2                3939.01             5542   \n",
              "3                 376.44             4272   \n",
              "4                1687.33             4066   \n",
              "...                  ...              ...   \n",
              "7995             2214.15             3712   \n",
              "7996              675.97             1616   \n",
              "7997              918.28              489   \n",
              "7998             3035.31             1401   \n",
              "7999             3354.36              469   \n",
              "\n",
              "                      Card Number (Hashed or Encrypted)  Merchant Name  \\\n",
              "0     daca51bffe0fc4eaaa7c430917f94b75fd893712492254...           4585   \n",
              "1     d5366dd9be3a0266c0252baceaa6332210ed4dbd0ef252...           6117   \n",
              "2     4737a6384aa1c3c31f7768b86633d6a8401dd6ab4a8ff1...            249   \n",
              "3     4721806eed8f2663bb597ff13e79a294de318358fbb54b...           3820   \n",
              "4     9deacc3a9efd6e382826d400620aca5f23ed94327578e5...           2364   \n",
              "...                                                 ...            ...   \n",
              "7995  8a0015c8601fe597e160c31a05fd5e4a87a4b876df426f...           4374   \n",
              "7996  de3530e65ccf6fc0c0eb7f7a7e8e5b71bb907d5207d390...           1069   \n",
              "7997  227356d19fd5374e9cfdd134387fe3499683a1c7929981...           2838   \n",
              "7998  669bd9fcc7e40cc25d99c773678e48bcb3fdadf7fee6a9...           3294   \n",
              "7999  8db138a97db4df2c7533dfca014dcd85c0385846a55e6c...           1961   \n",
              "\n",
              "      Merchant Category Code (MCC)  Transaction Location (City or ZIP Code)  \\\n",
              "0                             3590                                      153   \n",
              "1                             7277                                      309   \n",
              "2                             9297                                      208   \n",
              "3                             5686                                      244   \n",
              "4                             2940                                        0   \n",
              "...                            ...                                      ...   \n",
              "7995                          1236                                       21   \n",
              "7996                          3406                                      107   \n",
              "7997                          7504                                      302   \n",
              "7998                          4015                                      281   \n",
              "7999                          2902                                       77   \n",
              "\n",
              "     Transaction Currency  Card Type Card Expiration Date  \\\n",
              "0                     INR          1               29-Apr   \n",
              "1                     EUR          0               26-Mar   \n",
              "2                     USD          2               29-Nov   \n",
              "3                     USD          2               25-Sep   \n",
              "4                     INR          1               31-Mar   \n",
              "...                   ...        ...                  ...   \n",
              "7995                  EUR          2               26-Apr   \n",
              "7996                  INR          2               25-Nov   \n",
              "7997                  USD          1               24-May   \n",
              "7998                  EUR          0               24-Sep   \n",
              "7999                  INR          2               24-Feb   \n",
              "\n",
              "                         CVV Code (Hashed or Encrypted)  \\\n",
              "0     01299ac65733b5a3d774265fbfe8396b8611e5e3321855...   \n",
              "1     ad8fa913d25b3970c6efa8ca504da8ba670ce2a9cf012d...   \n",
              "2     eb3be230bbd2844b1f5d8f2e4fab9ffba8ab22cfeeb69c...   \n",
              "3     891d46993a36d78392247c642138cede01d9841daab1d9...   \n",
              "4     48a1a756f2d83f1dc57bbf14052b70a6f40d0fceed6662...   \n",
              "...                                                 ...   \n",
              "7995  d4b9aead1dd10a596542d1d8211a5021b9c3e894751d01...   \n",
              "7996  d874e4e4a5df21173b0f83e313151f813bea4f488686ef...   \n",
              "7997  20e9c64c05a54d199610fb7e38135361324b5ed5dcf39c...   \n",
              "7998  e7866fdc6672f827c76f6124ca3eeaff44aff8b7caf4ee...   \n",
              "7999  c86a2932e1c79343a3c16fb218b9944791aaeedd3e30c8...   \n",
              "\n",
              "      Transaction Response Code                        Transaction ID  \\\n",
              "0                             5  b7f69cbc-a03d-41f8-adca-75920b0242c3   \n",
              "1                            12  ad53cc8e-8412-422e-8cad-4176daac8387   \n",
              "2                             5  f09cecd6-0d74-4551-8089-a31d64e6b9c5   \n",
              "3                             5  b208ae0b-4c4f-428f-b6b9-5360b288b947   \n",
              "4                             5  6b4e4e43-5b73-4906-9973-299a1b2a5e71   \n",
              "...                         ...                                   ...   \n",
              "7995                          5  0d219c55-87cf-43af-a1bb-cda408710de1   \n",
              "7996                          0  054f6d58-9925-4c49-9f5d-01b6bf3db5c8   \n",
              "7997                          5  4178f63e-459b-40e6-8db6-a6ff2d6348e5   \n",
              "7998                          0  2424f724-8bd2-4dd0-8b39-e824999a9764   \n",
              "7999                         12  85588ac2-21c9-4c8d-a7fb-fd0d2b1fbb09   \n",
              "\n",
              "      Fraud Flag or Label Previous Transactions  Transaction Source  \\\n",
              "0                       1                  None                   1   \n",
              "1                       1                  None                   1   \n",
              "2                       1             3 or more                   0   \n",
              "3                       0                     2                   0   \n",
              "4                       1                     2                   1   \n",
              "...                   ...                   ...                 ...   \n",
              "7995                    0                     1                   1   \n",
              "7996                    1             3 or more                   0   \n",
              "7997                    1             3 or more                   0   \n",
              "7998                    1                     1                   0   \n",
              "7999                    0                     2                   0   \n",
              "\n",
              "           IP Address  Device Information  \n",
              "0        18.106.240.6                   2  \n",
              "1      212.48.185.128                   1  \n",
              "2       17.190.112.46                   1  \n",
              "3      153.136.24.104                   2  \n",
              "4      196.153.28.131                   0  \n",
              "...               ...                 ...  \n",
              "7995   214.34.176.247                   1  \n",
              "7996    34.237.199.33                   2  \n",
              "7997  220.203.140.160                   2  \n",
              "7998   216.56.133.227                   2  \n",
              "7999    159.232.79.67                   1  \n",
              "\n",
              "[8000 rows x 17 columns]"
            ],
            "text/html": [
              "\n",
              "  <div id=\"df-bc5de3b0-4847-4253-b32a-492d364fd243\" class=\"colab-df-container\">\n",
              "    <div>\n",
              "<style scoped>\n",
              "    .dataframe tbody tr th:only-of-type {\n",
              "        vertical-align: middle;\n",
              "    }\n",
              "\n",
              "    .dataframe tbody tr th {\n",
              "        vertical-align: top;\n",
              "    }\n",
              "\n",
              "    .dataframe thead th {\n",
              "        text-align: right;\n",
              "    }\n",
              "</style>\n",
              "<table border=\"1\" class=\"dataframe\">\n",
              "  <thead>\n",
              "    <tr style=\"text-align: right;\">\n",
              "      <th></th>\n",
              "      <th>Transaction Amount</th>\n",
              "      <th>Cardholder Name</th>\n",
              "      <th>Card Number (Hashed or Encrypted)</th>\n",
              "      <th>Merchant Name</th>\n",
              "      <th>Merchant Category Code (MCC)</th>\n",
              "      <th>Transaction Location (City or ZIP Code)</th>\n",
              "      <th>Transaction Currency</th>\n",
              "      <th>Card Type</th>\n",
              "      <th>Card Expiration Date</th>\n",
              "      <th>CVV Code (Hashed or Encrypted)</th>\n",
              "      <th>Transaction Response Code</th>\n",
              "      <th>Transaction ID</th>\n",
              "      <th>Fraud Flag or Label</th>\n",
              "      <th>Previous Transactions</th>\n",
              "      <th>Transaction Source</th>\n",
              "      <th>IP Address</th>\n",
              "      <th>Device Information</th>\n",
              "    </tr>\n",
              "  </thead>\n",
              "  <tbody>\n",
              "    <tr>\n",
              "      <th>0</th>\n",
              "      <td>285.88</td>\n",
              "      <td>6398</td>\n",
              "      <td>daca51bffe0fc4eaaa7c430917f94b75fd893712492254...</td>\n",
              "      <td>4585</td>\n",
              "      <td>3590</td>\n",
              "      <td>153</td>\n",
              "      <td>INR</td>\n",
              "      <td>1</td>\n",
              "      <td>29-Apr</td>\n",
              "      <td>01299ac65733b5a3d774265fbfe8396b8611e5e3321855...</td>\n",
              "      <td>5</td>\n",
              "      <td>b7f69cbc-a03d-41f8-adca-75920b0242c3</td>\n",
              "      <td>1</td>\n",
              "      <td>None</td>\n",
              "      <td>1</td>\n",
              "      <td>18.106.240.6</td>\n",
              "      <td>2</td>\n",
              "    </tr>\n",
              "    <tr>\n",
              "      <th>1</th>\n",
              "      <td>1777.32</td>\n",
              "      <td>3729</td>\n",
              "      <td>d5366dd9be3a0266c0252baceaa6332210ed4dbd0ef252...</td>\n",
              "      <td>6117</td>\n",
              "      <td>7277</td>\n",
              "      <td>309</td>\n",
              "      <td>EUR</td>\n",
              "      <td>0</td>\n",
              "      <td>26-Mar</td>\n",
              "      <td>ad8fa913d25b3970c6efa8ca504da8ba670ce2a9cf012d...</td>\n",
              "      <td>12</td>\n",
              "      <td>ad53cc8e-8412-422e-8cad-4176daac8387</td>\n",
              "      <td>1</td>\n",
              "      <td>None</td>\n",
              "      <td>1</td>\n",
              "      <td>212.48.185.128</td>\n",
              "      <td>1</td>\n",
              "    </tr>\n",
              "    <tr>\n",
              "      <th>2</th>\n",
              "      <td>3939.01</td>\n",
              "      <td>5542</td>\n",
              "      <td>4737a6384aa1c3c31f7768b86633d6a8401dd6ab4a8ff1...</td>\n",
              "      <td>249</td>\n",
              "      <td>9297</td>\n",
              "      <td>208</td>\n",
              "      <td>USD</td>\n",
              "      <td>2</td>\n",
              "      <td>29-Nov</td>\n",
              "      <td>eb3be230bbd2844b1f5d8f2e4fab9ffba8ab22cfeeb69c...</td>\n",
              "      <td>5</td>\n",
              "      <td>f09cecd6-0d74-4551-8089-a31d64e6b9c5</td>\n",
              "      <td>1</td>\n",
              "      <td>3 or more</td>\n",
              "      <td>0</td>\n",
              "      <td>17.190.112.46</td>\n",
              "      <td>1</td>\n",
              "    </tr>\n",
              "    <tr>\n",
              "      <th>3</th>\n",
              "      <td>376.44</td>\n",
              "      <td>4272</td>\n",
              "      <td>4721806eed8f2663bb597ff13e79a294de318358fbb54b...</td>\n",
              "      <td>3820</td>\n",
              "      <td>5686</td>\n",
              "      <td>244</td>\n",
              "      <td>USD</td>\n",
              "      <td>2</td>\n",
              "      <td>25-Sep</td>\n",
              "      <td>891d46993a36d78392247c642138cede01d9841daab1d9...</td>\n",
              "      <td>5</td>\n",
              "      <td>b208ae0b-4c4f-428f-b6b9-5360b288b947</td>\n",
              "      <td>0</td>\n",
              "      <td>2</td>\n",
              "      <td>0</td>\n",
              "      <td>153.136.24.104</td>\n",
              "      <td>2</td>\n",
              "    </tr>\n",
              "    <tr>\n",
              "      <th>4</th>\n",
              "      <td>1687.33</td>\n",
              "      <td>4066</td>\n",
              "      <td>9deacc3a9efd6e382826d400620aca5f23ed94327578e5...</td>\n",
              "      <td>2364</td>\n",
              "      <td>2940</td>\n",
              "      <td>0</td>\n",
              "      <td>INR</td>\n",
              "      <td>1</td>\n",
              "      <td>31-Mar</td>\n",
              "      <td>48a1a756f2d83f1dc57bbf14052b70a6f40d0fceed6662...</td>\n",
              "      <td>5</td>\n",
              "      <td>6b4e4e43-5b73-4906-9973-299a1b2a5e71</td>\n",
              "      <td>1</td>\n",
              "      <td>2</td>\n",
              "      <td>1</td>\n",
              "      <td>196.153.28.131</td>\n",
              "      <td>0</td>\n",
              "    </tr>\n",
              "    <tr>\n",
              "      <th>...</th>\n",
              "      <td>...</td>\n",
              "      <td>...</td>\n",
              "      <td>...</td>\n",
              "      <td>...</td>\n",
              "      <td>...</td>\n",
              "      <td>...</td>\n",
              "      <td>...</td>\n",
              "      <td>...</td>\n",
              "      <td>...</td>\n",
              "      <td>...</td>\n",
              "      <td>...</td>\n",
              "      <td>...</td>\n",
              "      <td>...</td>\n",
              "      <td>...</td>\n",
              "      <td>...</td>\n",
              "      <td>...</td>\n",
              "      <td>...</td>\n",
              "    </tr>\n",
              "    <tr>\n",
              "      <th>7995</th>\n",
              "      <td>2214.15</td>\n",
              "      <td>3712</td>\n",
              "      <td>8a0015c8601fe597e160c31a05fd5e4a87a4b876df426f...</td>\n",
              "      <td>4374</td>\n",
              "      <td>1236</td>\n",
              "      <td>21</td>\n",
              "      <td>EUR</td>\n",
              "      <td>2</td>\n",
              "      <td>26-Apr</td>\n",
              "      <td>d4b9aead1dd10a596542d1d8211a5021b9c3e894751d01...</td>\n",
              "      <td>5</td>\n",
              "      <td>0d219c55-87cf-43af-a1bb-cda408710de1</td>\n",
              "      <td>0</td>\n",
              "      <td>1</td>\n",
              "      <td>1</td>\n",
              "      <td>214.34.176.247</td>\n",
              "      <td>1</td>\n",
              "    </tr>\n",
              "    <tr>\n",
              "      <th>7996</th>\n",
              "      <td>675.97</td>\n",
              "      <td>1616</td>\n",
              "      <td>de3530e65ccf6fc0c0eb7f7a7e8e5b71bb907d5207d390...</td>\n",
              "      <td>1069</td>\n",
              "      <td>3406</td>\n",
              "      <td>107</td>\n",
              "      <td>INR</td>\n",
              "      <td>2</td>\n",
              "      <td>25-Nov</td>\n",
              "      <td>d874e4e4a5df21173b0f83e313151f813bea4f488686ef...</td>\n",
              "      <td>0</td>\n",
              "      <td>054f6d58-9925-4c49-9f5d-01b6bf3db5c8</td>\n",
              "      <td>1</td>\n",
              "      <td>3 or more</td>\n",
              "      <td>0</td>\n",
              "      <td>34.237.199.33</td>\n",
              "      <td>2</td>\n",
              "    </tr>\n",
              "    <tr>\n",
              "      <th>7997</th>\n",
              "      <td>918.28</td>\n",
              "      <td>489</td>\n",
              "      <td>227356d19fd5374e9cfdd134387fe3499683a1c7929981...</td>\n",
              "      <td>2838</td>\n",
              "      <td>7504</td>\n",
              "      <td>302</td>\n",
              "      <td>USD</td>\n",
              "      <td>1</td>\n",
              "      <td>24-May</td>\n",
              "      <td>20e9c64c05a54d199610fb7e38135361324b5ed5dcf39c...</td>\n",
              "      <td>5</td>\n",
              "      <td>4178f63e-459b-40e6-8db6-a6ff2d6348e5</td>\n",
              "      <td>1</td>\n",
              "      <td>3 or more</td>\n",
              "      <td>0</td>\n",
              "      <td>220.203.140.160</td>\n",
              "      <td>2</td>\n",
              "    </tr>\n",
              "    <tr>\n",
              "      <th>7998</th>\n",
              "      <td>3035.31</td>\n",
              "      <td>1401</td>\n",
              "      <td>669bd9fcc7e40cc25d99c773678e48bcb3fdadf7fee6a9...</td>\n",
              "      <td>3294</td>\n",
              "      <td>4015</td>\n",
              "      <td>281</td>\n",
              "      <td>EUR</td>\n",
              "      <td>0</td>\n",
              "      <td>24-Sep</td>\n",
              "      <td>e7866fdc6672f827c76f6124ca3eeaff44aff8b7caf4ee...</td>\n",
              "      <td>0</td>\n",
              "      <td>2424f724-8bd2-4dd0-8b39-e824999a9764</td>\n",
              "      <td>1</td>\n",
              "      <td>1</td>\n",
              "      <td>0</td>\n",
              "      <td>216.56.133.227</td>\n",
              "      <td>2</td>\n",
              "    </tr>\n",
              "    <tr>\n",
              "      <th>7999</th>\n",
              "      <td>3354.36</td>\n",
              "      <td>469</td>\n",
              "      <td>8db138a97db4df2c7533dfca014dcd85c0385846a55e6c...</td>\n",
              "      <td>1961</td>\n",
              "      <td>2902</td>\n",
              "      <td>77</td>\n",
              "      <td>INR</td>\n",
              "      <td>2</td>\n",
              "      <td>24-Feb</td>\n",
              "      <td>c86a2932e1c79343a3c16fb218b9944791aaeedd3e30c8...</td>\n",
              "      <td>12</td>\n",
              "      <td>85588ac2-21c9-4c8d-a7fb-fd0d2b1fbb09</td>\n",
              "      <td>0</td>\n",
              "      <td>2</td>\n",
              "      <td>0</td>\n",
              "      <td>159.232.79.67</td>\n",
              "      <td>1</td>\n",
              "    </tr>\n",
              "  </tbody>\n",
              "</table>\n",
              "<p>8000 rows × 17 columns</p>\n",
              "</div>\n",
              "    <div class=\"colab-df-buttons\">\n",
              "\n",
              "  <div class=\"colab-df-container\">\n",
              "    <button class=\"colab-df-convert\" onclick=\"convertToInteractive('df-bc5de3b0-4847-4253-b32a-492d364fd243')\"\n",
              "            title=\"Convert this dataframe to an interactive table.\"\n",
              "            style=\"display:none;\">\n",
              "\n",
              "  <svg xmlns=\"http://www.w3.org/2000/svg\" height=\"24px\" viewBox=\"0 -960 960 960\">\n",
              "    <path d=\"M120-120v-720h720v720H120Zm60-500h600v-160H180v160Zm220 220h160v-160H400v160Zm0 220h160v-160H400v160ZM180-400h160v-160H180v160Zm440 0h160v-160H620v160ZM180-180h160v-160H180v160Zm440 0h160v-160H620v160Z\"/>\n",
              "  </svg>\n",
              "    </button>\n",
              "\n",
              "  <style>\n",
              "    .colab-df-container {\n",
              "      display:flex;\n",
              "      gap: 12px;\n",
              "    }\n",
              "\n",
              "    .colab-df-convert {\n",
              "      background-color: #E8F0FE;\n",
              "      border: none;\n",
              "      border-radius: 50%;\n",
              "      cursor: pointer;\n",
              "      display: none;\n",
              "      fill: #1967D2;\n",
              "      height: 32px;\n",
              "      padding: 0 0 0 0;\n",
              "      width: 32px;\n",
              "    }\n",
              "\n",
              "    .colab-df-convert:hover {\n",
              "      background-color: #E2EBFA;\n",
              "      box-shadow: 0px 1px 2px rgba(60, 64, 67, 0.3), 0px 1px 3px 1px rgba(60, 64, 67, 0.15);\n",
              "      fill: #174EA6;\n",
              "    }\n",
              "\n",
              "    .colab-df-buttons div {\n",
              "      margin-bottom: 4px;\n",
              "    }\n",
              "\n",
              "    [theme=dark] .colab-df-convert {\n",
              "      background-color: #3B4455;\n",
              "      fill: #D2E3FC;\n",
              "    }\n",
              "\n",
              "    [theme=dark] .colab-df-convert:hover {\n",
              "      background-color: #434B5C;\n",
              "      box-shadow: 0px 1px 3px 1px rgba(0, 0, 0, 0.15);\n",
              "      filter: drop-shadow(0px 1px 2px rgba(0, 0, 0, 0.3));\n",
              "      fill: #FFFFFF;\n",
              "    }\n",
              "  </style>\n",
              "\n",
              "    <script>\n",
              "      const buttonEl =\n",
              "        document.querySelector('#df-bc5de3b0-4847-4253-b32a-492d364fd243 button.colab-df-convert');\n",
              "      buttonEl.style.display =\n",
              "        google.colab.kernel.accessAllowed ? 'block' : 'none';\n",
              "\n",
              "      async function convertToInteractive(key) {\n",
              "        const element = document.querySelector('#df-bc5de3b0-4847-4253-b32a-492d364fd243');\n",
              "        const dataTable =\n",
              "          await google.colab.kernel.invokeFunction('convertToInteractive',\n",
              "                                                    [key], {});\n",
              "        if (!dataTable) return;\n",
              "\n",
              "        const docLinkHtml = 'Like what you see? Visit the ' +\n",
              "          '<a target=\"_blank\" href=https://colab.research.google.com/notebooks/data_table.ipynb>data table notebook</a>'\n",
              "          + ' to learn more about interactive tables.';\n",
              "        element.innerHTML = '';\n",
              "        dataTable['output_type'] = 'display_data';\n",
              "        await google.colab.output.renderOutput(dataTable, element);\n",
              "        const docLink = document.createElement('div');\n",
              "        docLink.innerHTML = docLinkHtml;\n",
              "        element.appendChild(docLink);\n",
              "      }\n",
              "    </script>\n",
              "  </div>\n",
              "\n",
              "\n",
              "<div id=\"df-5ee01c86-beb3-44f7-a277-45daa08722fe\">\n",
              "  <button class=\"colab-df-quickchart\" onclick=\"quickchart('df-5ee01c86-beb3-44f7-a277-45daa08722fe')\"\n",
              "            title=\"Suggest charts\"\n",
              "            style=\"display:none;\">\n",
              "\n",
              "<svg xmlns=\"http://www.w3.org/2000/svg\" height=\"24px\"viewBox=\"0 0 24 24\"\n",
              "     width=\"24px\">\n",
              "    <g>\n",
              "        <path d=\"M19 3H5c-1.1 0-2 .9-2 2v14c0 1.1.9 2 2 2h14c1.1 0 2-.9 2-2V5c0-1.1-.9-2-2-2zM9 17H7v-7h2v7zm4 0h-2V7h2v10zm4 0h-2v-4h2v4z\"/>\n",
              "    </g>\n",
              "</svg>\n",
              "  </button>\n",
              "\n",
              "<style>\n",
              "  .colab-df-quickchart {\n",
              "      --bg-color: #E8F0FE;\n",
              "      --fill-color: #1967D2;\n",
              "      --hover-bg-color: #E2EBFA;\n",
              "      --hover-fill-color: #174EA6;\n",
              "      --disabled-fill-color: #AAA;\n",
              "      --disabled-bg-color: #DDD;\n",
              "  }\n",
              "\n",
              "  [theme=dark] .colab-df-quickchart {\n",
              "      --bg-color: #3B4455;\n",
              "      --fill-color: #D2E3FC;\n",
              "      --hover-bg-color: #434B5C;\n",
              "      --hover-fill-color: #FFFFFF;\n",
              "      --disabled-bg-color: #3B4455;\n",
              "      --disabled-fill-color: #666;\n",
              "  }\n",
              "\n",
              "  .colab-df-quickchart {\n",
              "    background-color: var(--bg-color);\n",
              "    border: none;\n",
              "    border-radius: 50%;\n",
              "    cursor: pointer;\n",
              "    display: none;\n",
              "    fill: var(--fill-color);\n",
              "    height: 32px;\n",
              "    padding: 0;\n",
              "    width: 32px;\n",
              "  }\n",
              "\n",
              "  .colab-df-quickchart:hover {\n",
              "    background-color: var(--hover-bg-color);\n",
              "    box-shadow: 0 1px 2px rgba(60, 64, 67, 0.3), 0 1px 3px 1px rgba(60, 64, 67, 0.15);\n",
              "    fill: var(--button-hover-fill-color);\n",
              "  }\n",
              "\n",
              "  .colab-df-quickchart-complete:disabled,\n",
              "  .colab-df-quickchart-complete:disabled:hover {\n",
              "    background-color: var(--disabled-bg-color);\n",
              "    fill: var(--disabled-fill-color);\n",
              "    box-shadow: none;\n",
              "  }\n",
              "\n",
              "  .colab-df-spinner {\n",
              "    border: 2px solid var(--fill-color);\n",
              "    border-color: transparent;\n",
              "    border-bottom-color: var(--fill-color);\n",
              "    animation:\n",
              "      spin 1s steps(1) infinite;\n",
              "  }\n",
              "\n",
              "  @keyframes spin {\n",
              "    0% {\n",
              "      border-color: transparent;\n",
              "      border-bottom-color: var(--fill-color);\n",
              "      border-left-color: var(--fill-color);\n",
              "    }\n",
              "    20% {\n",
              "      border-color: transparent;\n",
              "      border-left-color: var(--fill-color);\n",
              "      border-top-color: var(--fill-color);\n",
              "    }\n",
              "    30% {\n",
              "      border-color: transparent;\n",
              "      border-left-color: var(--fill-color);\n",
              "      border-top-color: var(--fill-color);\n",
              "      border-right-color: var(--fill-color);\n",
              "    }\n",
              "    40% {\n",
              "      border-color: transparent;\n",
              "      border-right-color: var(--fill-color);\n",
              "      border-top-color: var(--fill-color);\n",
              "    }\n",
              "    60% {\n",
              "      border-color: transparent;\n",
              "      border-right-color: var(--fill-color);\n",
              "    }\n",
              "    80% {\n",
              "      border-color: transparent;\n",
              "      border-right-color: var(--fill-color);\n",
              "      border-bottom-color: var(--fill-color);\n",
              "    }\n",
              "    90% {\n",
              "      border-color: transparent;\n",
              "      border-bottom-color: var(--fill-color);\n",
              "    }\n",
              "  }\n",
              "</style>\n",
              "\n",
              "  <script>\n",
              "    async function quickchart(key) {\n",
              "      const quickchartButtonEl =\n",
              "        document.querySelector('#' + key + ' button');\n",
              "      quickchartButtonEl.disabled = true;  // To prevent multiple clicks.\n",
              "      quickchartButtonEl.classList.add('colab-df-spinner');\n",
              "      try {\n",
              "        const charts = await google.colab.kernel.invokeFunction(\n",
              "            'suggestCharts', [key], {});\n",
              "      } catch (error) {\n",
              "        console.error('Error during call to suggestCharts:', error);\n",
              "      }\n",
              "      quickchartButtonEl.classList.remove('colab-df-spinner');\n",
              "      quickchartButtonEl.classList.add('colab-df-quickchart-complete');\n",
              "    }\n",
              "    (() => {\n",
              "      let quickchartButtonEl =\n",
              "        document.querySelector('#df-5ee01c86-beb3-44f7-a277-45daa08722fe button');\n",
              "      quickchartButtonEl.style.display =\n",
              "        google.colab.kernel.accessAllowed ? 'block' : 'none';\n",
              "    })();\n",
              "  </script>\n",
              "</div>\n",
              "    </div>\n",
              "  </div>\n"
            ],
            "application/vnd.google.colaboratory.intrinsic+json": {
              "type": "dataframe",
              "variable_name": "df1",
              "summary": "{\n  \"name\": \"df1\",\n  \"rows\": 8000,\n  \"fields\": [\n    {\n      \"column\": \"Transaction Amount\",\n      \"properties\": {\n        \"dtype\": \"number\",\n        \"std\": 1451.2213259467821,\n        \"min\": 1.09,\n        \"max\": 4996.7,\n        \"num_unique_values\": 7934,\n        \"samples\": [\n          618.61,\n          2942.95,\n          2005.4\n        ],\n        \"semantic_type\": \"\",\n        \"description\": \"\"\n      }\n    },\n    {\n      \"column\": \"Cardholder Name\",\n      \"properties\": {\n        \"dtype\": \"number\",\n        \"std\": 2213,\n        \"min\": 0,\n        \"max\": 7650,\n        \"num_unique_values\": 7651,\n        \"samples\": [\n          1297,\n          2253,\n          655\n        ],\n        \"semantic_type\": \"\",\n        \"description\": \"\"\n      }\n    },\n    {\n      \"column\": \"Card Number (Hashed or Encrypted)\",\n      \"properties\": {\n        \"dtype\": \"string\",\n        \"num_unique_values\": 8000,\n        \"samples\": [\n          \"f793d9e82723ca61d2df09009c00060fe81f19a11eadc2c566c1070ce8fce4d6\",\n          \"e7d00f5c2ba7ea4694fe72e49a57a01e5c17872285c0bf1b2f255652b6d49b82\",\n          \"bc15ef9f147571851af849e2e778b947844b8c1d93409bde426be0460fd8fb36\"\n        ],\n        \"semantic_type\": \"\",\n        \"description\": \"\"\n      }\n    },\n    {\n      \"column\": \"Merchant Name\",\n      \"properties\": {\n        \"dtype\": \"number\",\n        \"std\": 2027,\n        \"min\": 0,\n        \"max\": 7026,\n        \"num_unique_values\": 7027,\n        \"samples\": [\n          6376,\n          7012,\n          320\n        ],\n        \"semantic_type\": \"\",\n        \"description\": \"\"\n      }\n    },\n    {\n      \"column\": \"Merchant Category Code (MCC)\",\n      \"properties\": {\n        \"dtype\": \"number\",\n        \"std\": 2608,\n        \"min\": 1000,\n        \"max\": 9999,\n        \"num_unique_values\": 5328,\n        \"samples\": [\n          3280,\n          4626,\n          5974\n        ],\n        \"semantic_type\": \"\",\n        \"description\": \"\"\n      }\n    },\n    {\n      \"column\": \"Transaction Location (City or ZIP Code)\",\n      \"properties\": {\n        \"dtype\": \"number\",\n        \"std\": 92,\n        \"min\": 0,\n        \"max\": 315,\n        \"num_unique_values\": 316,\n        \"samples\": [\n          308,\n          198,\n          87\n        ],\n        \"semantic_type\": \"\",\n        \"description\": \"\"\n      }\n    },\n    {\n      \"column\": \"Transaction Currency\",\n      \"properties\": {\n        \"dtype\": \"category\",\n        \"num_unique_values\": 3,\n        \"samples\": [\n          \"INR\",\n          \"EUR\",\n          \"USD\"\n        ],\n        \"semantic_type\": \"\",\n        \"description\": \"\"\n      }\n    },\n    {\n      \"column\": \"Card Type\",\n      \"properties\": {\n        \"dtype\": \"number\",\n        \"std\": 0,\n        \"min\": 0,\n        \"max\": 2,\n        \"num_unique_values\": 3,\n        \"samples\": [\n          1,\n          0,\n          2\n        ],\n        \"semantic_type\": \"\",\n        \"description\": \"\"\n      }\n    },\n    {\n      \"column\": \"Card Expiration Date\",\n      \"properties\": {\n        \"dtype\": \"category\",\n        \"num_unique_values\": 121,\n        \"samples\": [\n          \"27-Aug\",\n          \"26-Apr\",\n          \"31-Mar\"\n        ],\n        \"semantic_type\": \"\",\n        \"description\": \"\"\n      }\n    },\n    {\n      \"column\": \"CVV Code (Hashed or Encrypted)\",\n      \"properties\": {\n        \"dtype\": \"category\",\n        \"num_unique_values\": 1000,\n        \"samples\": [\n          \"8952115444bab6de66aab97501f75fee64be3448203a91b47818e5e8943e0dfb\",\n          \"35c71bd7eaf4607047bb7c186d17251942204229b897e033923b13dc8ce2d109\",\n          \"3658d7fa3c43456f3c9c87db0490e872039516e6375336254560167cc3db2ea2\"\n        ],\n        \"semantic_type\": \"\",\n        \"description\": \"\"\n      }\n    },\n    {\n      \"column\": \"Transaction Response Code\",\n      \"properties\": {\n        \"dtype\": \"number\",\n        \"std\": 4,\n        \"min\": 0,\n        \"max\": 12,\n        \"num_unique_values\": 3,\n        \"samples\": [\n          5,\n          12,\n          0\n        ],\n        \"semantic_type\": \"\",\n        \"description\": \"\"\n      }\n    },\n    {\n      \"column\": \"Transaction ID\",\n      \"properties\": {\n        \"dtype\": \"string\",\n        \"num_unique_values\": 8000,\n        \"samples\": [\n          \"5b8ede07-9d60-467a-ad80-6dca484e61f4\",\n          \"bd8849cc-aab7-4b79-964a-530b6f5006a1\",\n          \"63f77190-53db-4817-938e-a4a0fa1eda73\"\n        ],\n        \"semantic_type\": \"\",\n        \"description\": \"\"\n      }\n    },\n    {\n      \"column\": \"Fraud Flag or Label\",\n      \"properties\": {\n        \"dtype\": \"number\",\n        \"std\": 0,\n        \"min\": 0,\n        \"max\": 1,\n        \"num_unique_values\": 2,\n        \"samples\": [\n          0,\n          1\n        ],\n        \"semantic_type\": \"\",\n        \"description\": \"\"\n      }\n    },\n    {\n      \"column\": \"Previous Transactions\",\n      \"properties\": {\n        \"dtype\": \"category\",\n        \"num_unique_values\": 4,\n        \"samples\": [\n          \"3 or more\",\n          \"1\"\n        ],\n        \"semantic_type\": \"\",\n        \"description\": \"\"\n      }\n    },\n    {\n      \"column\": \"Transaction Source\",\n      \"properties\": {\n        \"dtype\": \"number\",\n        \"std\": 0,\n        \"min\": 0,\n        \"max\": 1,\n        \"num_unique_values\": 2,\n        \"samples\": [\n          0,\n          1\n        ],\n        \"semantic_type\": \"\",\n        \"description\": \"\"\n      }\n    },\n    {\n      \"column\": \"IP Address\",\n      \"properties\": {\n        \"dtype\": \"string\",\n        \"num_unique_values\": 8000,\n        \"samples\": [\n          \"189.80.103.232\",\n          \"37.41.164.148\"\n        ],\n        \"semantic_type\": \"\",\n        \"description\": \"\"\n      }\n    },\n    {\n      \"column\": \"Device Information\",\n      \"properties\": {\n        \"dtype\": \"number\",\n        \"std\": 0,\n        \"min\": 0,\n        \"max\": 2,\n        \"num_unique_values\": 3,\n        \"samples\": [\n          2,\n          1\n        ],\n        \"semantic_type\": \"\",\n        \"description\": \"\"\n      }\n    }\n  ]\n}"
            }
          },
          "metadata": {},
          "execution_count": 90
        }
      ]
    },
    {
      "cell_type": "code",
      "source": [
        "# Calculate correlation coefficients between numeric features and label\n",
        "correlation_matrix = df1.corr()\n",
        "correlation_with_label = correlation_matrix['Fraud Flag or Label'].sort_values(ascending=False)\n",
        "print(\"Correlation with Label (Fraud Flag or Label):\")\n",
        "print(correlation_with_label)\n"
      ],
      "metadata": {
        "colab": {
          "base_uri": "https://localhost:8080/"
        },
        "id": "XiFRysqda5gR",
        "outputId": "488fd812-8051-44dc-86af-0617c57b6e07"
      },
      "execution_count": 91,
      "outputs": [
        {
          "output_type": "stream",
          "name": "stdout",
          "text": [
            "Correlation with Label (Fraud Flag or Label):\n",
            "Fraud Flag or Label                        1.000000\n",
            "Card Type                                  0.015454\n",
            "Transaction Source                         0.013178\n",
            "Merchant Category Code (MCC)               0.012742\n",
            "Transaction Response Code                  0.010705\n",
            "Device Information                        -0.000033\n",
            "Merchant Name                             -0.001154\n",
            "Transaction Location (City or ZIP Code)   -0.004087\n",
            "Transaction Amount                        -0.009679\n",
            "Cardholder Name                           -0.014884\n",
            "Name: Fraud Flag or Label, dtype: float64\n"
          ]
        },
        {
          "output_type": "stream",
          "name": "stderr",
          "text": [
            "<ipython-input-91-308d11cb0e7e>:2: FutureWarning: The default value of numeric_only in DataFrame.corr is deprecated. In a future version, it will default to False. Select only valid columns or specify the value of numeric_only to silence this warning.\n",
            "  correlation_matrix = df1.corr()\n"
          ]
        }
      ]
    },
    {
      "cell_type": "code",
      "source": [
        "# Calculate correlation matrix\n",
        "correlation_matrix = df1.corr()\n",
        "\n",
        "# Plot heatmap\n",
        "plt.figure(figsize=(8, 6))\n",
        "sns.heatmap(correlation_matrix, annot=True, cmap='coolwarm', fmt=\".2f\")\n",
        "plt.title('Correlation Matrix Heatmap')\n",
        "plt.show()"
      ],
      "metadata": {
        "colab": {
          "base_uri": "https://localhost:8080/",
          "height": 856
        },
        "id": "qIl6U7FQkOWI",
        "outputId": "c00b5935-9a20-4029-8d79-986c3a01235b"
      },
      "execution_count": 92,
      "outputs": [
        {
          "output_type": "stream",
          "name": "stderr",
          "text": [
            "<ipython-input-92-73d0e73968c0>:2: FutureWarning: The default value of numeric_only in DataFrame.corr is deprecated. In a future version, it will default to False. Select only valid columns or specify the value of numeric_only to silence this warning.\n",
            "  correlation_matrix = df1.corr()\n"
          ]
        },
        {
          "output_type": "display_data",
          "data": {
            "text/plain": [
              "<Figure size 800x600 with 2 Axes>"
            ],
            "image/png": "[encoded data removed]"
          },
          "metadata": {}
        }
      ]
    },
    {
      "cell_type": "code",
      "source": [
        "# List of columns to consider as features\n",
        "features = [\n",
        "    'Card Type',\n",
        "    'Transaction Source',\n",
        "    'Merchant Category Code (MCC)',\n",
        "    'Transaction Response Code',\n",
        "    'Transaction Amount',\n",
        "    'Cardholder Name'\n",
        "]\n",
        "\n",
        "print(\"Selected features:\", features)"
      ],
      "metadata": {
        "id": "9Yxh1z3onuJc",
        "colab": {
          "base_uri": "https://localhost:8080/"
        },
        "outputId": "1db7396c-ef93-41e8-e4a3-c0110b9954c0"
      },
      "execution_count": 93,
      "outputs": [
        {
          "output_type": "stream",
          "name": "stdout",
          "text": [
            "Selected features: ['Card Type', 'Transaction Source', 'Merchant Category Code (MCC)', 'Transaction Response Code', 'Transaction Amount', 'Cardholder Name']\n"
          ]
        }
      ]
    },
    {
      "cell_type": "markdown",
      "source": [
        "## 2. **ANALYSIS**"
      ],
      "metadata": {
        "id": "3aUWeLx1cFMy"
      }
    },
    {
      "cell_type": "code",
      "source": [
        "df1['Fraud Flag or Label'].unique()"
      ],
      "metadata": {
        "colab": {
          "base_uri": "https://localhost:8080/"
        },
        "id": "lyac5aDaeq7V",
        "outputId": "51bea128-b42f-441b-e5bb-206f27444056"
      },
      "execution_count": 94,
      "outputs": [
        {
          "output_type": "execute_result",
          "data": {
            "text/plain": [
              "array([1, 0])"
            ]
          },
          "metadata": {},
          "execution_count": 94
        }
      ]
    },
    {
      "cell_type": "markdown",
      "source": [
        " Here,1 define that fraud activity occurred.\n",
        "\n",
        " 0 define no such activity occurred."
      ],
      "metadata": {
        "id": "oI_DI5HBevgB"
      }
    },
    {
      "cell_type": "code",
      "source": [
        "Fraud = df1['Fraud Flag or Label'][df1['Fraud Flag or Label']==1].count()\n",
        "Fraud"
      ],
      "metadata": {
        "colab": {
          "base_uri": "https://localhost:8080/"
        },
        "id": "K5pfVLZ5osKr",
        "outputId": "411bc90f-343d-4f98-d1a8-020571d6139b"
      },
      "execution_count": 95,
      "outputs": [
        {
          "output_type": "execute_result",
          "data": {
            "text/plain": [
              "3989"
            ]
          },
          "metadata": {},
          "execution_count": 95
        }
      ]
    },
    {
      "cell_type": "code",
      "source": [
        "Non_Fraud = df1['Fraud Flag or Label'][df1['Fraud Flag or Label']==0].count()\n",
        "Non_Fraud"
      ],
      "metadata": {
        "colab": {
          "base_uri": "https://localhost:8080/"
        },
        "id": "I732k25dpfbk",
        "outputId": "f876fcc8-61c6-41f2-e742-e4f4d2c198cb"
      },
      "execution_count": 96,
      "outputs": [
        {
          "output_type": "execute_result",
          "data": {
            "text/plain": [
              "4011"
            ]
          },
          "metadata": {},
          "execution_count": 96
        }
      ]
    },
    {
      "cell_type": "code",
      "source": [
        "total=Fraud+Non_Fraud\n",
        "total"
      ],
      "metadata": {
        "colab": {
          "base_uri": "https://localhost:8080/"
        },
        "id": "tlx5AdIe7PEa",
        "outputId": "55fb6b7a-87c2-4665-c733-655376b1ce51"
      },
      "execution_count": 111,
      "outputs": [
        {
          "output_type": "execute_result",
          "data": {
            "text/plain": [
              "8000"
            ]
          },
          "metadata": {},
          "execution_count": 111
        }
      ]
    },
    {
      "cell_type": "code",
      "source": [
        "print(f\"Total Fraud proportion is {Fraud*100/(total)} %\")\n",
        "print  (f\" and Total Non Fraud proportion is {Non_Fraud*100/(total)} %\")"
      ],
      "metadata": {
        "colab": {
          "base_uri": "https://localhost:8080/"
        },
        "id": "UvAdnAINps7V",
        "outputId": "6122a1e3-8f28-4f74-e782-bf1efc09711f"
      },
      "execution_count": 97,
      "outputs": [
        {
          "output_type": "stream",
          "name": "stdout",
          "text": [
            "Total Fraud proportion is 49.8625 %\n",
            " and Total Non Fraud proportion is 50.1375 %\n"
          ]
        }
      ]
    },
    {
      "cell_type": "markdown",
      "source": [
        "## 3.Splitting"
      ],
      "metadata": {
        "id": "6TpFJK5jhhZ_"
      }
    },
    {
      "cell_type": "code",
      "source": [
        "# Extract features and target variable\n",
        "X = df1[features]\n",
        "y = df1['Fraud Flag or Label']"
      ],
      "metadata": {
        "id": "alsyVLk2IoNl"
      },
      "execution_count": 98,
      "outputs": []
    },
    {
      "cell_type": "code",
      "source": [
        "from sklearn.model_selection import train_test_split"
      ],
      "metadata": {
        "id": "auPqizw6ec58"
      },
      "execution_count": 99,
      "outputs": []
    },
    {
      "cell_type": "code",
      "source": [
        "# Split the data into training and testing sets\n",
        "X_train, X_test, y_train, y_test = train_test_split(X, y, test_size=0.2, random_state=42)"
      ],
      "metadata": {
        "id": "yXctDxdblrwt"
      },
      "execution_count": 100,
      "outputs": []
    },
    {
      "cell_type": "markdown",
      "source": [
        "## 4.Model Selection"
      ],
      "metadata": {
        "id": "yTNDHVlHhoCc"
      }
    },
    {
      "cell_type": "code",
      "source": [
        "# Initialize KNN classifier\n",
        "knn = KNeighborsClassifier(n_neighbors=15)"
      ],
      "metadata": {
        "id": "hQipzFIql6Xk"
      },
      "execution_count": 101,
      "outputs": []
    },
    {
      "cell_type": "code",
      "source": [
        "# Train the model\n",
        "knn.fit(X_train, y_train)"
      ],
      "metadata": {
        "colab": {
          "base_uri": "https://localhost:8080/",
          "height": 74
        },
        "id": "WbEgEvqMl9Qe",
        "outputId": "1779b4e5-7b61-4db1-bb6c-7f13d96629ea"
      },
      "execution_count": 102,
      "outputs": [
        {
          "output_type": "execute_result",
          "data": {
            "text/plain": [
              "KNeighborsClassifier(n_neighbors=15)"
            ],
            "text/html": [
              "<style>#sk-container-id-7 {color: black;background-color: white;}#sk-container-id-7 pre{padding: 0;}#sk-container-id-7 div.sk-toggleable {background-color: white;}#sk-container-id-7 label.sk-toggleable__label {cursor: pointer;display: block;width: 100%;margin-bottom: 0;padding: 0.3em;box-sizing: border-box;text-align: center;}#sk-container-id-7 label.sk-toggleable__label-arrow:before {content: \"▸\";float: left;margin-right: 0.25em;color: #696969;}#sk-container-id-7 label.sk-toggleable__label-arrow:hover:before {color: black;}#sk-container-id-7 div.sk-estimator:hover label.sk-toggleable__label-arrow:before {color: black;}#sk-container-id-7 div.sk-toggleable__content {max-height: 0;max-width: 0;overflow: hidden;text-align: left;background-color: #f0f8ff;}#sk-container-id-7 div.sk-toggleable__content pre {margin: 0.2em;color: black;border-radius: 0.25em;background-color: #f0f8ff;}#sk-container-id-7 input.sk-toggleable__control:checked~div.sk-toggleable__content {max-height: 200px;max-width: 100%;overflow: auto;}#sk-container-id-7 input.sk-toggleable__control:checked~label.sk-toggleable__label-arrow:before {content: \"▾\";}#sk-container-id-7 div.sk-estimator input.sk-toggleable__control:checked~label.sk-toggleable__label {background-color: #d4ebff;}#sk-container-id-7 div.sk-label input.sk-toggleable__control:checked~label.sk-toggleable__label {background-color: #d4ebff;}#sk-container-id-7 input.sk-hidden--visually {border: 0;clip: rect(1px 1px 1px 1px);clip: rect(1px, 1px, 1px, 1px);height: 1px;margin: -1px;overflow: hidden;padding: 0;position: absolute;width: 1px;}#sk-container-id-7 div.sk-estimator {font-family: monospace;background-color: #f0f8ff;border: 1px dotted black;border-radius: 0.25em;box-sizing: border-box;margin-bottom: 0.5em;}#sk-container-id-7 div.sk-estimator:hover {background-color: #d4ebff;}#sk-container-id-7 div.sk-parallel-item::after {content: \"\";width: 100%;border-bottom: 1px solid gray;flex-grow: 1;}#sk-container-id-7 div.sk-label:hover label.sk-toggleable__label {background-color: #d4ebff;}#sk-container-id-7 div.sk-serial::before {content: \"\";position: absolute;border-left: 1px solid gray;box-sizing: border-box;top: 0;bottom: 0;left: 50%;z-index: 0;}#sk-container-id-7 div.sk-serial {display: flex;flex-direction: column;align-items: center;background-color: white;padding-right: 0.2em;padding-left: 0.2em;position: relative;}#sk-container-id-7 div.sk-item {position: relative;z-index: 1;}#sk-container-id-7 div.sk-parallel {display: flex;align-items: stretch;justify-content: center;background-color: white;position: relative;}#sk-container-id-7 div.sk-item::before, #sk-container-id-7 div.sk-parallel-item::before {content: \"\";position: absolute;border-left: 1px solid gray;box-sizing: border-box;top: 0;bottom: 0;left: 50%;z-index: -1;}#sk-container-id-7 div.sk-parallel-item {display: flex;flex-direction: column;z-index: 1;position: relative;background-color: white;}#sk-container-id-7 div.sk-parallel-item:first-child::after {align-self: flex-end;width: 50%;}#sk-container-id-7 div.sk-parallel-item:last-child::after {align-self: flex-start;width: 50%;}#sk-container-id-7 div.sk-parallel-item:only-child::after {width: 0;}#sk-container-id-7 div.sk-dashed-wrapped {border: 1px dashed gray;margin: 0 0.4em 0.5em 0.4em;box-sizing: border-box;padding-bottom: 0.4em;background-color: white;}#sk-container-id-7 div.sk-label label {font-family: monospace;font-weight: bold;display: inline-block;line-height: 1.2em;}#sk-container-id-7 div.sk-label-container {text-align: center;}#sk-container-id-7 div.sk-container {/* jupyter's `normalize.less` sets `[hidden] { display: none; }` but bootstrap.min.css set `[hidden] { display: none !important; }` so we also need the `!important` here to be able to override the default hidden behavior on the sphinx rendered scikit-learn.org. See: https://github.com/scikit-learn/scikit-learn/issues/21755 */display: inline-block !important;position: relative;}#sk-container-id-7 div.sk-text-repr-fallback {display: none;}</style><div id=\"sk-container-id-7\" class=\"sk-top-container\"><div class=\"sk-text-repr-fallback\"><pre>KNeighborsClassifier(n_neighbors=15)</pre><b>In a Jupyter environment, please rerun this cell to show the HTML representation or trust the notebook. <br />On GitHub, the HTML representation is unable to render, please try loading this page with nbviewer.org.</b></div><div class=\"sk-container\" hidden><div class=\"sk-item\"><div class=\"sk-estimator sk-toggleable\"><input class=\"sk-toggleable__control sk-hidden--visually\" id=\"sk-estimator-id-7\" type=\"checkbox\" checked><label for=\"sk-estimator-id-7\" class=\"sk-toggleable__label sk-toggleable__label-arrow\">KNeighborsClassifier</label><div class=\"sk-toggleable__content\"><pre>KNeighborsClassifier(n_neighbors=15)</pre></div></div></div></div></div>"
            ]
          },
          "metadata": {},
          "execution_count": 102
        }
      ]
    },
    {
      "cell_type": "code",
      "source": [
        "# Predict on the test set\n",
        "y_pred = knn.predict(X_test)"
      ],
      "metadata": {
        "id": "5mMwud9zl_8m"
      },
      "execution_count": 103,
      "outputs": []
    },
    {
      "cell_type": "markdown",
      "source": [
        "## 5.Testing"
      ],
      "metadata": {
        "id": "0h_hqw61hwH4"
      }
    },
    {
      "cell_type": "code",
      "source": [
        "y_pred"
      ],
      "metadata": {
        "colab": {
          "base_uri": "https://localhost:8080/"
        },
        "id": "UNT7u64QrLWR",
        "outputId": "a31a0ee6-51b2-4153-e20f-50ab3622f3bc"
      },
      "execution_count": 104,
      "outputs": [
        {
          "output_type": "execute_result",
          "data": {
            "text/plain": [
              "array([0, 1, 0, ..., 1, 1, 1])"
            ]
          },
          "metadata": {},
          "execution_count": 104
        }
      ]
    },
    {
      "cell_type": "code",
      "source": [
        "y_test"
      ],
      "metadata": {
        "colab": {
          "base_uri": "https://localhost:8080/"
        },
        "id": "hTAijnCOrOi9",
        "outputId": "b0d2e940-e152-42c0-cb53-88344bf3a620"
      },
      "execution_count": 105,
      "outputs": [
        {
          "output_type": "execute_result",
          "data": {
            "text/plain": [
              "2215    0\n",
              "2582    1\n",
              "1662    0\n",
              "3027    0\n",
              "4343    0\n",
              "       ..\n",
              "1079    1\n",
              "7979    0\n",
              "1115    1\n",
              "6093    1\n",
              "6832    0\n",
              "Name: Fraud Flag or Label, Length: 1600, dtype: int64"
            ]
          },
          "metadata": {},
          "execution_count": 105
        }
      ]
    },
    {
      "cell_type": "markdown",
      "source": [
        "## 6.EVALUATION METRICS\n",
        "\n",
        "1.CLASSIFICATION ACCURACY\n"
      ],
      "metadata": {
        "id": "ksGfLzwwpY3X"
      }
    },
    {
      "cell_type": "code",
      "source": [
        "accuracy = accuracy_score(y_test, y_pred)\n",
        "print(\"Accuracy:\", accuracy)"
      ],
      "metadata": {
        "colab": {
          "base_uri": "https://localhost:8080/"
        },
        "id": "EVOpDWJQpYae",
        "outputId": "53fd7015-e427-4f4f-ce2b-49d2db9a22e0"
      },
      "execution_count": 106,
      "outputs": [
        {
          "output_type": "stream",
          "name": "stdout",
          "text": [
            "Accuracy: 0.491875\n"
          ]
        }
      ]
    },
    {
      "cell_type": "markdown",
      "source": [
        "2.CONFUSION MATRIX\n",
        "\n",
        "The confusion matrix is a summary of prediction results on a classification problem."
      ],
      "metadata": {
        "id": "mVGazig9pSm4"
      }
    },
    {
      "cell_type": "code",
      "source": [
        "from sklearn.metrics import accuracy_score, precision_score, recall_score, f1_score, confusion_matrix\n",
        "\n",
        "# Calculate confusion matrix\n",
        "conf_matrix = confusion_matrix(y_test, y_pred)\n",
        "print(\"Confusion Matrix:\")\n",
        "print(conf_matrix)"
      ],
      "metadata": {
        "colab": {
          "base_uri": "https://localhost:8080/"
        },
        "id": "op6chQb5n6pE",
        "outputId": "48a40a1e-6b61-44b3-9dad-4a39dfce6921"
      },
      "execution_count": 107,
      "outputs": [
        {
          "output_type": "stream",
          "name": "stdout",
          "text": [
            "Confusion Matrix:\n",
            "[[414 379]\n",
            " [434 373]]\n"
          ]
        }
      ]
    },
    {
      "cell_type": "markdown",
      "source": [
        "## Different predictions made by model\n",
        "True Positives - Correctly identified fraudulent transactions\n",
        "\n",
        "FalsePositives - incorrectly flagged non-fraudulent transactions as fraudulent\n",
        "\n",
        "True Negatives - correctly identified non-fraudulent transactions\n",
        "\n",
        "False Negatives - failed to identify fraudulent transactions\n"
      ],
      "metadata": {
        "id": "5noLr25epYD0"
      }
    },
    {
      "cell_type": "code",
      "source": [
        "conf_matrix_values = [[431, 362],\n",
        "                      [416, 391]]\n",
        "\n",
        "plt.figure(figsize=(8, 6))\n",
        "sns.heatmap(conf_matrix_values, annot=True, cmap='Blues', fmt='d')\n",
        "plt.title(\"Confusion matrix\")\n",
        "plt.xlabel('Actual class')\n",
        "plt.ylabel('Predicted class')\n",
        "plt.show()"
      ],
      "metadata": {
        "colab": {
          "base_uri": "https://localhost:8080/",
          "height": 564
        },
        "id": "_G36hb5VjZkH",
        "outputId": "4352e3e6-f05d-4259-d911-206020c7a272"
      },
      "execution_count": 108,
      "outputs": [
        {
          "output_type": "display_data",
          "data": {
            "text/plain": [
              "<Figure size 800x600 with 2 Axes>"
            ],
            "image/png": "[encoded data removed]"
          },
          "metadata": {}
        }
      ]
    },
    {
      "cell_type": "markdown",
      "source": [
        "### 3.CLASSIFICATION REPORT\n",
        "*   Accuracy\n",
        "\n",
        "*   Precision\n",
        "\n",
        "*   Recall\n",
        "\n",
        "*   F1-Score"
      ],
      "metadata": {
        "id": "Bf8HHx0Qpd6V"
      }
    },
    {
      "cell_type": "code",
      "source": [
        "# Calculate accuracy\n",
        "accuracy = accuracy_score(y_test, y_pred)\n",
        "print(\"Accuracy:\", accuracy)\n",
        "\n",
        "# Calculate precision\n",
        "precision = precision_score(y_test, y_pred)\n",
        "print(\"Precision:\", precision)\n",
        "\n",
        "# Calculate recall\n",
        "recall = recall_score(y_test, y_pred)\n",
        "print(\"Recall:\", recall)\n",
        "\n",
        "# Calculate F1-score\n",
        "f1 = f1_score(y_test, y_pred)\n",
        "print(\"F1-score:\", f1)\n"
      ],
      "metadata": {
        "colab": {
          "base_uri": "https://localhost:8080/"
        },
        "id": "bRH_lc82mDSZ",
        "outputId": "4b027e87-7c7f-4bef-8365-ec9c17c66034"
      },
      "execution_count": 109,
      "outputs": [
        {
          "output_type": "stream",
          "name": "stdout",
          "text": [
            "Accuracy: 0.491875\n",
            "Precision: 0.49601063829787234\n",
            "Recall: 0.46220570012391576\n",
            "F1-score: 0.47851186658114175\n"
          ]
        }
      ]
    },
    {
      "cell_type": "markdown",
      "source": [
        "## Cross-Validation\n"
      ],
      "metadata": {
        "id": "dxZugDtlUox1"
      }
    },
    {
      "cell_type": "markdown",
      "source": [
        "**Cross-Validation** is a technique used to assess how well ML models\n",
        "perform on unseen data"
      ],
      "metadata": {
        "id": "0YimB2GY6tDR"
      }
    },
    {
      "cell_type": "code",
      "source": [
        "from sklearn.model_selection import cross_val_score, StratifiedKFold\n",
        "from sklearn.neighbors import KNeighborsClassifier\n",
        "\n",
        "knn = KNeighborsClassifier(n_neighbors=5)  #number of neighbors\n",
        "\n",
        "num_folds = 5  # folds\n",
        "\n",
        "stratified_kfold = StratifiedKFold(n_splits=num_folds, shuffle=True, random_state=42)\n",
        "\n",
        "cv_scores = cross_val_score(knn, X, y, cv=stratified_kfold, scoring='accuracy')\n",
        "\n",
        "print(\"Cross-Validation Scores:\", cv_scores)\n",
        "print(\"Mean Accuracy:\", cv_scores.mean())\n",
        "print(\"Standard Deviation of Accuracy:\", cv_scores.std())\n",
        "\n",
        "\n"
      ],
      "metadata": {
        "id": "DzxVuB6qpxmb",
        "colab": {
          "base_uri": "https://localhost:8080/"
        },
        "outputId": "cb19f23e-9d9b-42ec-adf5-3d1a209bd353"
      },
      "execution_count": 110,
      "outputs": [
        {
          "output_type": "stream",
          "name": "stdout",
          "text": [
            "Cross-Validation Scores: [0.479375 0.495    0.49     0.495625 0.50125 ]\n",
            "Mean Accuracy: 0.49224999999999997\n",
            "Standard Deviation of Accuracy: 0.007359093014767506\n"
          ]
        }
      ]
    },
    {
      "cell_type": "markdown",
      "source": [
        "\n",
        "*  **Cross-Validation Scores: [0.479375, 0.495, 0.49, 0.495625, 0.50125]**\n",
        "   \n",
        "   These are the accuracy scores for each fold. Each score represents the accuracy achieved on the validation set for a particular fold.\n",
        "*   **Mean Accuracy: 0.49225**\n",
        "   \n",
        "   These are the accuracy scores for each fold. Each score represents the accuracy achieved on the validation set for a particular fold.\n",
        "\n",
        "*   **Mean Accuracy: 0.49225**\n",
        "   \n",
        "   This is the average accuracy across all folds,represents the overall performance of the model.\n",
        "\n",
        "*   **Standard Deviation of Accuracy: 0.007359093014767506**\n",
        "   \n",
        "   It value indicates the variability or spread of the accuracy scores. It provides insight into the consistency of the model's performance.\n",
        "\n"
      ],
      "metadata": {
        "id": "2dC-wACoq3v4"
      }
    },
    {
      "cell_type": "markdown",
      "source": [
        "## CONCLUSION"
      ],
      "metadata": {
        "id": "ZO6UAotbvvA1"
      }
    },
    {
      "cell_type": "markdown",
      "source": [
        "Through comprehensive preprocessing steps, including label encoding for\n",
        "categorical variables, ensured that the data was suitable for training the model effectively.For training the model, KNN algorithm is used.The accuracy is 49.18% which is low because of data quality,feature relevance,imbalanced classes and model complexity.With an accuracy of 49.18%, there is chance for improvement through feature engineering, model selection, and data preprocessing. These steps can refine the model's performance and potentially increase its accuracy in detecting fraudulent credit card transactions."
      ],
      "metadata": {
        "id": "lxhH-BIdv3_m"
      }
    }
  ]
}